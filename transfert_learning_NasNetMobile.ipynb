{
  "nbformat": 4,
  "nbformat_minor": 0,
  "metadata": {
    "colab": {
      "name": "transfert_learning_NasNetMobile",
      "provenance": [],
      "collapsed_sections": [],
      "include_colab_link": true
    },
    "kernelspec": {
      "name": "python3",
      "display_name": "Python 3"
    },
    "accelerator": "GPU"
  },
  "cells": [
    {
      "cell_type": "markdown",
      "metadata": {
        "id": "view-in-github",
        "colab_type": "text"
      },
      "source": [
        "<a href=\"https://colab.research.google.com/github/Amine-OMRI/-Transfer_learning_Resnet34_and_NasNetMobile/blob/master/transfert_learning_NasNetMobile.ipynb\" target=\"_parent\"><img src=\"https://colab.research.google.com/assets/colab-badge.svg\" alt=\"Open In Colab\"/></a>"
      ]
    },
    {
      "cell_type": "markdown",
      "metadata": {
        "id": "Dpn7eEf9AvUb",
        "colab_type": "text"
      },
      "source": [
        "**NasNetMobile**"
      ]
    },
    {
      "cell_type": "code",
      "metadata": {
        "id": "HPX1Tj5_mJCA",
        "colab_type": "code",
        "colab": {}
      },
      "source": [
        "from google.colab import drive\n",
        "drive.mount('/content/drive/')"
      ],
      "execution_count": 0,
      "outputs": []
    },
    {
      "cell_type": "code",
      "metadata": {
        "id": "Le1jYl84mSE9",
        "colab_type": "code",
        "colab": {}
      },
      "source": [
        "pip install -U image-classifiers==0.2.2"
      ],
      "execution_count": 0,
      "outputs": []
    },
    {
      "cell_type": "code",
      "metadata": {
        "id": "g-tubKM3mV72",
        "colab_type": "code",
        "colab": {}
      },
      "source": [
        "pip install image-classifiers==1.0.0"
      ],
      "execution_count": 0,
      "outputs": []
    },
    {
      "cell_type": "code",
      "metadata": {
        "id": "8MaotLZamYiL",
        "colab_type": "code",
        "colab": {}
      },
      "source": [
        "pip install git+https://github.com/qubvel/classification_models.git"
      ],
      "execution_count": 0,
      "outputs": []
    },
    {
      "cell_type": "code",
      "metadata": {
        "id": "dAsI-mLwmbEy",
        "colab_type": "code",
        "colab": {}
      },
      "source": [
        "import keras\n",
        "from keras.utils import np_utils\n",
        "from keras.layers import Conv2D, MaxPooling2D, Dense, Input, Activation, Dropout, GlobalAveragePooling2D, \\\n",
        "    BatchNormalization, concatenate, AveragePooling2D, Flatten\n",
        "from keras.utils import to_categorical\n",
        "import matplotlib.pyplot as plt\n",
        "from keras.models import Model\n",
        "from keras.models import load_model\n",
        "from sklearn.metrics import classification_report\n",
        "from sklearn.preprocessing import LabelEncoder\n",
        "from keras.applications import imagenet_utils\n",
        "from keras.preprocessing.image import img_to_array\n",
        "from keras.preprocessing.image import load_img\n",
        "from keras.optimizers import SGD\n",
        "from keras import optimizers\n",
        "from keras.wrappers.scikit_learn import KerasClassifier\n",
        "from sklearn.model_selection import GridSearchCV\n",
        "from keras.callbacks import LearningRateScheduler\n",
        "from keras.preprocessing.image import ImageDataGenerator\n",
        "from classification_models.keras import Classifiers\n",
        "from imutils import paths   \n",
        "import numpy as np\n",
        "import pickle\n",
        "import random\n",
        "import os"
      ],
      "execution_count": 0,
      "outputs": []
    },
    {
      "cell_type": "code",
      "metadata": {
        "id": "c_OwDqJTmd7N",
        "colab_type": "code",
        "colab": {}
      },
      "source": [
        "# definir des nom des repertoires train, et test\n",
        "TRAIN = \"Trunk12_crops_train\"\n",
        "TEST = \"Trunk12_crops_test\"\n",
        "# labels des classes\n",
        "CLASSES = [\"alder\", \"beech\",\"birch\",\"chestnut\",\"ginkgobiloba\",\"hornbeam\",\"horsechestnut\",\"linden\",\"oak\",\"orientalplane\",\"pine\",\"spruce\"]\n",
        "\n",
        "# taille du  batch\n",
        "BATCH_SIZE = 16\n",
        "\n",
        "# reprertoire original de la base de données\n",
        "BASE_PATH = \"/content/drive/My Drive/Trunk12_crops\"\n",
        "#\"/content/Data/AFF11_resized\"\n",
        "\n",
        "# repertoire de sauvegarde du modele apres entrainement\n",
        "mNasNet_save_model_FINE_TUNING = 'mNasNet Model FINE TUNING.model' \n",
        "MODEL_PATH_FINE_TUNING = F\"/content/drive/My Drive/NasNet Models/{mNasNet_save_model_FINE_TUNING}\"\n",
        "\n",
        "mNasNet_save_model_WITHOUT_FIRST_BLOC = 'mNasNet Model WITHOUT FIRST BLOC.model' \n",
        "MODEL_PATH_WITHOUT_FIRST_BLOC = F\"/content/drive/My Drive/NasNet Models/{mNasNet_save_model_WITHOUT_FIRST_BLOC}\"\n",
        "\n",
        "mNasNet_save_model_WITHOUT_TWO_FIRST_BLOC = 'mNasNet Model WITHOUT TWO FIRST BLOC.model' \n",
        "MODEL_PATH_WITHOUT_TWO_FIRST_BLOC = F\"/content/drive/My Drive/NasNet Models/{mNasNet_save_model_WITHOUT_TWO_FIRST_BLOC}\"\n",
        "\n",
        "# repertoire ou sauvegarder le fichier CSV \n",
        "BASE_CSV_PATH = \"/content/drive/My Drive/NasNet Models/feature_descriptors\"\n",
        "\n",
        "# graphe d'historique d'entrainement\n",
        "mNasNet_Model_trainnig_graphe = 'NasNet Models_Model_trainnig_graphe.png'\n",
        "TRAIN_ALL_PLOT_PATH = F\"/content/drive/My Drive/NasNet Models/{mNasNet_Model_trainnig_graphe}\"\n",
        "\n",
        "\n",
        "TRAINING_HISTORY_PLOT_NEW_FC_FINE_TUNING = 'NasNetMobile_NEW_FC_FINE_TUNING.png'\n",
        "TRAINING_HISTORY_PLOT_NEW_FC_FINE_TUNING = F\"/content/drive/My Drive/NasNet Models/{TRAINING_HISTORY_PLOT_NEW_FC_FINE_TUNING}\"\n",
        "\n",
        "TRAINING_HISTORY_PLOT_WITHOUT_FIRST_BLOC = 'NasNetMobile_WITHOUT_FIRST_BLOC.png'\n",
        "TRAINING_HISTORY_PLOT_PATH_WITHOUT_FIRST_BLOC = F\"/content/drive/My Drive/NasNet Models/{TRAINING_HISTORY_PLOT_WITHOUT_FIRST_BLOC}\"\n",
        "\n",
        "TRAINING_HISTORY_PLOT_WITHOUT_TWO_FIRST_BLOC = 'NasNetMobile_WITHOUT_TWO_FIRST_BLOC.png'\n",
        "TRAINING_HISTORY_PLOT_PATH_WITHOUT_TWO_FIRST_BLOC = F\"/content/drive/My Drive/NasNet Models/{TRAINING_HISTORY_PLOT_WITHOUT_TWO_FIRST_BLOC}\"\n"
      ],
      "execution_count": 0,
      "outputs": []
    },
    {
      "cell_type": "code",
      "metadata": {
        "id": "F5dHtm0AmjCR",
        "colab_type": "code",
        "outputId": "3331b081-d493-4bc1-8d1e-57bd15eacdb9",
        "colab": {
          "base_uri": "https://localhost:8080/",
          "height": 91
        }
      },
      "source": [
        "# fonction qui dessine les graphes de l'historique d'entrainement\n",
        "def plot_training(H, N, plotPath):\n",
        "    plt.style.use(\"ggplot\")\n",
        "    plt.figure()\n",
        "    plt.plot(np.arange(0, N), H.history[\"loss\"], label=\"train_loss\")\n",
        "    plt.plot(np.arange(0, N), H.history[\"val_loss\"], label=\"val_loss\")\n",
        "    plt.plot(np.arange(0, N), H.history[\"acc\"], label=\"train_acc\")\n",
        "    plt.plot(np.arange(0, N), H.history[\"val_acc\"], label=\"val_acc\")\n",
        "    plt.title(\"Training Loss and Accuracy\")\n",
        "    plt.xlabel(\"Epoch #\")\n",
        "    plt.ylabel(\"Loss/Accuracy\")\n",
        "    plt.legend(loc=\"lower left\")\n",
        "    plt.show()\n",
        "    plt.savefig(plotPath)\n",
        "# chemins vers les repertoires train, val et test\n",
        "trainPath = os.path.sep.join([BASE_PATH, TRAIN])\n",
        "#trainPath =\"/content/Data/AFF11_resized/AFF11_resized_train\"\n",
        "# valPath = os.path.sep.join([config.BASE_PATH, config.VAL])\n",
        "testPath = os.path.sep.join([BASE_PATH, TEST])\n",
        "#testPath =\"/content/Data/AFF11_resized/AFF11_resized_test\"\n",
        "\n",
        "# nbr total des image dans chacun des repo train test\n",
        "totalTrain = len(list(paths.list_images(trainPath)))\n",
        "# totalVal = len(list(paths.list_images(valPath)))\n",
        "totalTest = len(list(paths.list_images(testPath)))\n",
        "\n",
        "\n",
        "\n",
        "print(testPath)\n",
        "print(trainPath)\n",
        "\n",
        "print(totalTest)\n",
        "print(totalTrain)"
      ],
      "execution_count": 0,
      "outputs": [
        {
          "output_type": "stream",
          "text": [
            "/content/drive/My Drive/Projet-DL-INFO0907/Trunk12_crops/Trunk12_crops_test\n",
            "/content/drive/My Drive/Projet-DL-INFO0907/Trunk12_crops/Trunk12_crops_train\n",
            "2493\n",
            "2682\n"
          ],
          "name": "stdout"
        }
      ]
    },
    {
      "cell_type": "code",
      "metadata": {
        "id": "YeIAvjjbmmZE",
        "colab_type": "code",
        "outputId": "a78b1d42-89fb-4b34-ed2f-83a54050367f",
        "colab": {
          "base_uri": "https://localhost:8080/",
          "height": 54
        }
      },
      "source": [
        "# instancier un objet ImageDataGenerator pour l'augmentation des donnees train\n",
        "trainAug = ImageDataGenerator(\n",
        "    #featurewise_std_normalisation = True,\n",
        "    rescale=1.0/255.0,\n",
        "    horizontal_flip=True\n",
        "    )\n",
        "\n",
        "# instancier un objet ImageDataGenerator pour l'augmentation des donnees test\n",
        "testAug = ImageDataGenerator(\n",
        "    #featurewise_std_normalisation = True\n",
        "    rescale=1.0/255.0\n",
        ")\n",
        "\n",
        "\n",
        "# initialiser le generateur de train\n",
        "train_iterator = trainAug.flow_from_directory(\n",
        "    trainPath,\n",
        "    class_mode=\"categorical\",\n",
        "    target_size=(224, 224),\n",
        "    color_mode=\"rgb\",\n",
        "    shuffle=True,\n",
        "    batch_size=BATCH_SIZE)\n",
        "\n",
        "\n",
        "# initialiser le generateur de test\n",
        "test_iterator = testAug.flow_from_directory(\n",
        "    testPath,\n",
        "    class_mode=\"categorical\",\n",
        "    target_size=(224, 224),\n",
        "    color_mode=\"rgb\",\n",
        "    shuffle=False,\n",
        "    batch_size=BATCH_SIZE)\n"
      ],
      "execution_count": 0,
      "outputs": [
        {
          "output_type": "stream",
          "text": [
            "Found 2682 images belonging to 12 classes.\n",
            "Found 2493 images belonging to 12 classes.\n"
          ],
          "name": "stdout"
        }
      ]
    },
    {
      "cell_type": "code",
      "metadata": {
        "id": "4f_zIdetAa-u",
        "colab_type": "code",
        "colab": {}
      },
      "source": [
        "# charger le model NasNetMobile pre-entrainer sur imagenet et sans la derniere FC: ceci forme la partie basale du modele\n",
        "NasNetMobile, preprocess_input = Classifiers.get('nasnetmobile')\n",
        "baseModel_NasNetMobile = NasNetMobile(weights=\"imagenet\", include_top=False,input_tensor=Input(shape=(224, 224, 3)))\n",
        "baseModel_NasNetMobile.summary()"
      ],
      "execution_count": 0,
      "outputs": []
    },
    {
      "cell_type": "code",
      "metadata": {
        "id": "yafdEBoNu37q",
        "colab_type": "code",
        "outputId": "dff06c1d-e64f-4f0b-c790-fcbba211951a",
        "colab": {
          "base_uri": "https://localhost:8080/",
          "height": 34
        }
      },
      "source": [
        "print(len(baseModel_NasNetMobile.layers))"
      ],
      "execution_count": 0,
      "outputs": [
        {
          "output_type": "stream",
          "text": [
            "769\n"
          ],
          "name": "stdout"
        }
      ]
    },
    {
      "cell_type": "code",
      "metadata": {
        "id": "TyjEIkRj6Xf1",
        "colab_type": "code",
        "colab": {}
      },
      "source": [
        "# construire une nouvelle couche FC  avec le nombre de classe de la nouvelle base:\n",
        "# ceci forme le partie superieure du modele\n",
        "\n",
        "def define_model_NasNetMobile():\n",
        "  headModel = baseModel_NasNetMobile.output\n",
        "  headModel = GlobalAveragePooling2D(name = \"GlobalAveragePooling2D_1\")(headModel)\n",
        "  headModel = Dense(len(CLASSES), name = \"Prediction\")(headModel)\n",
        "  \n",
        "  # joindre les deux parties pour former le nouveau modele à entrainer\n",
        "  # voir l'image \"vgg-finetuning_FC.png\"\n",
        "  model = Model(inputs=baseModel_NasNetMobile.input, outputs=headModel)\n",
        "  # geler (ou bien freeze) toute les couche basale du modèle, càd on ne va pas changer leur poids mais laisser les poids\n",
        "  # appris sur imagenet\n",
        "  for layer in baseModel_NasNetMobile.layers:\n",
        "    layer.trainable = False\n",
        "\n",
        "  return model"
      ],
      "execution_count": 0,
      "outputs": []
    },
    {
      "cell_type": "code",
      "metadata": {
        "id": "UB1Mrpv_BCwG",
        "colab_type": "code",
        "colab": {}
      },
      "source": [
        "NasNetMobile_fine_tuned = define_model_NasNetMobile()\n",
        "NasNetMobile_fine_tuned.summary()\n",
        "# compiler le nouveau modele\n",
        "print(\"[INFO] compiling model...\")\n",
        "opt = SGD(lr=1e-4, momentum=0.9)\n",
        "NasNetMobile_fine_tuned.compile(loss=\"categorical_crossentropy\", optimizer=opt,metrics=[\"accuracy\"])"
      ],
      "execution_count": 0,
      "outputs": []
    },
    {
      "cell_type": "code",
      "metadata": {
        "id": "hqqFWft4BF6t",
        "colab_type": "code",
        "colab": {}
      },
      "source": [
        "# entrainer la couche FC pour 50 epoch (rappel: toutes les autres couches sont gelees donc leurs poids resteront\n",
        "# inchangés\n",
        "print(\"[INFO] training head...\")\n",
        "H = NasNetMobile_fine_tuned.fit_generator(train_iterator, steps_per_epoch=totalTrain // BATCH_SIZE,\n",
        "                        validation_data=test_iterator,\n",
        "                        validation_steps=totalTest // BATCH_SIZE,\n",
        "                        epochs=150)\n"
      ],
      "execution_count": 0,
      "outputs": []
    },
    {
      "cell_type": "code",
      "metadata": {
        "id": "f5XUTpGxBIzs",
        "colab_type": "code",
        "outputId": "7a57e747-98e0-4049-b5db-a0eee1ae02ec",
        "colab": {
          "base_uri": "https://localhost:8080/",
          "height": 744
        }
      },
      "source": [
        "# Evaluer le modele juste apres avoir entrainer la nouvelle FC\n",
        "print(\"[INFO] evaluating after fine-tuning network head...\")\n",
        "test_iterator.reset()\n",
        "predIdxs = NasNetMobile_fine_tuned.predict_generator(test_iterator, steps=(totalTest // BATCH_SIZE) + 1)\n",
        "predIdxs = np.argmax(predIdxs, axis=1)\n",
        "# afficher les performances de classification\n",
        "print(classification_report(test_iterator.classes, predIdxs, target_names=test_iterator.class_indices.keys()))\n",
        "plot_training(H, 150, TRAINING_HISTORY_PLOT_NEW_FC_FINE_TUNING)\n",
        "\n",
        "train_iterator.reset()\n",
        "test_iterator.reset()"
      ],
      "execution_count": 0,
      "outputs": [
        {
          "output_type": "stream",
          "text": [
            "[INFO] evaluating after fine-tuning network head...\n"
          ],
          "name": "stdout"
        },
        {
          "output_type": "stream",
          "text": [
            "/usr/local/lib/python3.6/dist-packages/sklearn/metrics/_classification.py:1272: UndefinedMetricWarning: Precision and F-score are ill-defined and being set to 0.0 in labels with no predicted samples. Use `zero_division` parameter to control this behavior.\n",
            "  _warn_prf(average, modifier, msg_start, len(result))\n"
          ],
          "name": "stderr"
        },
        {
          "output_type": "stream",
          "text": [
            "               precision    recall  f1-score   support\n",
            "\n",
            "        alder       0.00      0.00      0.00       189\n",
            "        beech       0.17      0.01      0.02       243\n",
            "        birch       0.00      0.00      0.00       162\n",
            "     chestnut       0.16      0.91      0.28       378\n",
            " ginkgobiloba       0.00      0.00      0.00       144\n",
            "     hornbeam       0.00      0.00      0.00       252\n",
            "horsechestnut       0.00      0.00      0.00       171\n",
            "       linden       0.00      0.00      0.00       135\n",
            "          oak       0.00      0.00      0.00       135\n",
            "orientalplane       0.00      0.00      0.00       189\n",
            "         pine       0.21      0.23      0.22       189\n",
            "       spruce       0.20      0.05      0.08       306\n",
            "\n",
            "     accuracy                           0.16      2493\n",
            "    macro avg       0.06      0.10      0.05      2493\n",
            " weighted avg       0.08      0.16      0.07      2493\n",
            "\n"
          ],
          "name": "stdout"
        },
        {
          "output_type": "display_data",
          "data": {
            "image/png": "[encoded data removed]",
            "text/plain": [
              "<Figure size 432x288 with 1 Axes>"
            ]
          },
          "metadata": {
            "tags": []
          }
        },
        {
          "output_type": "display_data",
          "data": {
            "text/plain": [
              "<Figure size 432x288 with 0 Axes>"
            ]
          },
          "metadata": {
            "tags": []
          }
        }
      ]
    },
    {
      "cell_type": "markdown",
      "metadata": {
        "id": "LrIeEuCitzCS",
        "colab_type": "text"
      },
      "source": [
        "**Saving the optimal model**"
      ]
    },
    {
      "cell_type": "code",
      "metadata": {
        "id": "7VJRx3PQt0wf",
        "colab_type": "code",
        "colab": {}
      },
      "source": [
        "NasNetMobile_fine_tuned.save(MODEL_PATH_FINE_TUNING)"
      ],
      "execution_count": 0,
      "outputs": []
    },
    {
      "cell_type": "markdown",
      "metadata": {
        "id": "QFo8b9vAt68M",
        "colab_type": "text"
      },
      "source": [
        "**Faire une évaluation du fine-tuning concernant :**"
      ]
    },
    {
      "cell_type": "code",
      "metadata": {
        "id": "BJP6ZBhbmvgp",
        "colab_type": "code",
        "colab": {}
      },
      "source": [
        "\n",
        "le = None\n",
        "classes = 12\n",
        "# parcourir les repo train et test\n",
        "# charger les images\n",
        "print(\"[INFO] processing TRAIN split...\")\n",
        "imagePaths = list(paths.list_images(trainPath))\n",
        "# extraire les labels des classes à partir du chemin(nom des dossiers)\n",
        "random.shuffle(imagePaths)\n",
        "labels = [p.split(os.path.sep)[-2] for p in imagePaths]\n",
        "# creer un objet LabelEncoder\n",
        "# qui va encoder les label avec des valeur entre 0 and nbr_class-1.\n",
        "if le is None:\n",
        "  le = LabelEncoder()\n",
        "  le.fit(labels)\n",
        "le.classes_\n",
        "# parcourir les images \n",
        "train_images = []\n",
        "for i in range(len(imagePaths)):\n",
        "  print(\"[INFO] processing image {}/{}\".format(i+1 , len(imagePaths)))\n",
        "  # charger l'image en taille 224x224 pixels\n",
        "  image = load_img(imagePaths[i], target_size=(224, 224))\n",
        "  image = img_to_array(image)\n",
        "  # image => tensor\n",
        "  # preprocess the image by (1) expanding the dimensions and\n",
        "  # (2) subtracting the mean RGB pixel intensity from the\n",
        "  # ImageNet dataset\n",
        "  image = np.expand_dims(image, axis=0)\n",
        "  # normalisation\n",
        "  image = imagenet_utils.preprocess_input(image)\n",
        "  train_images.append(image)\n",
        "x_train = (np.vstack(train_images))\n",
        "y_train = (le.transform(labels))    \n",
        "y_train = np_utils.to_categorical(y_train,classes)"
      ],
      "execution_count": 0,
      "outputs": []
    },
    {
      "cell_type": "markdown",
      "metadata": {
        "id": "U7aQCDSCm1Wo",
        "colab_type": "text"
      },
      "source": [
        "**Dégradation programmée du taux d’apprentissage**\n",
        "\n"
      ]
    },
    {
      "cell_type": "code",
      "metadata": {
        "id": "um85MPAKm2H7",
        "colab_type": "code",
        "colab": {}
      },
      "source": [
        "#Dégradation standard \n",
        "def standard_decay(curr_epoch):\n",
        "  init_eta = 0.01\n",
        "  decay = 0.00004\n",
        "  nb_batches = int( nbrTrain / batch_size)\n",
        "  eta = init_eta / (1+decay*(nb_batches*curr_epoch))\n",
        "  return eta\n",
        "#Dégradation par pas\n",
        "def step_decay(curr_epoch):\n",
        "  init_eta = 0.01\n",
        "  drop_factor = 0.25\n",
        "  drop_every = 10\n",
        "  decay = np.floor((1 + curr_epoch) / drop_every)\n",
        "  eta = init_eta * drop_factor ** decay\n",
        "  return eta\n",
        "#Dégradation polynômiale\n",
        "def poly_decay(curr_epoch):\n",
        "  total_epochs = 100\n",
        "  init_eta = 0.01\n",
        "  order = 1.0\n",
        "  decay = (1 - (curr_epoch / float(total_epochs))) ** order\n",
        "  eta = init_eta * decay\n",
        "  return eta"
      ],
      "execution_count": 0,
      "outputs": []
    },
    {
      "cell_type": "code",
      "metadata": {
        "id": "_Gil4fMYm7tZ",
        "colab_type": "code",
        "colab": {}
      },
      "source": [
        "# learning schedule callback\n",
        "lrate1 = LearningRateScheduler(step_decay)\n",
        "lrate2 = LearningRateScheduler(poly_decay)\n",
        "lrate3 = LearningRateScheduler(standard_decay)\n",
        "callbacks_list = [[lrate1], [lrate2], [lrate3]]"
      ],
      "execution_count": 0,
      "outputs": []
    },
    {
      "cell_type": "markdown",
      "metadata": {
        "id": "kJ__6lmBnAhm",
        "colab_type": "text"
      },
      "source": [
        "**GridSearch Evaluation finetuned Model only Fully Connected layer is trainable!**\n",
        "\n"
      ]
    },
    {
      "cell_type": "code",
      "metadata": {
        "id": "y0K9QZ6tuEcE",
        "colab_type": "code",
        "colab": {}
      },
      "source": [
        "# Fonction pour creer le modele Keras\n",
        "def define_model_fine_tuned():\n",
        "  NasNetMobile_fine_tuned = define_model_NasNetMobile()\n",
        "  print(\"[INFO] compiling model...\")\n",
        "  opt = SGD(lr=1e-4, momentum=0.9)\n",
        "  NasNetMobile_fine_tuned.compile(loss='categorical_crossentropy', optimizer=opt, metrics=[\"accuracy\"])\n",
        "  return NasNetMobile_fine_tuned \n",
        "\n",
        "model_NasNetMobile_fine_tuned = KerasClassifier(build_fn=define_model_fine_tuned, verbose=1) \n",
        "# parametres de la grille de recherche\n",
        "grid_param = {'batch_size' : [8, 16],\n",
        "              'epochs' : [75, 100, 150]}\n",
        "grid_search = GridSearchCV(estimator=model_NasNetMobile_fine_tuned, param_grid=grid_param, cv=3)\n",
        "grid_result = grid_search.fit(x_train, y_train)\n",
        "# afficher les resultats\n",
        "print(\"Best: %f using %s\" % (grid_result.best_score_, grid_result.best_params_))\n",
        "# afficher les resultats detailles\n",
        "means = grid_result.cv_results_['mean_test_score']\n",
        "stds = grid_result.cv_results_['std_test_score']\n",
        "params = grid_result.cv_results_['params']\n",
        "for mean, stdev, param in zip(means, stds, params):\n",
        "  print(\"mean (+/- std) = %f (%f) with: %r\" % (mean, stdev, param))"
      ],
      "execution_count": 0,
      "outputs": []
    },
    {
      "cell_type": "code",
      "metadata": {
        "id": "FNn5QXSYu_xe",
        "colab_type": "code",
        "colab": {}
      },
      "source": [
        "print(\"[INFO] loading model...\")\n",
        "NasNetMobile_fine_tuned = load_model('/content/drive/My Drive/NasNet Models/mNasNet Model FINE TUNING.model')"
      ],
      "execution_count": 0,
      "outputs": []
    },
    {
      "cell_type": "code",
      "metadata": {
        "id": "EdVyjgY7uL7E",
        "colab_type": "code",
        "colab": {}
      },
      "source": [
        "# -----------------------------------------------------------------\n",
        "# a ce stade la FC est entrainée sur la nouvelle base.\n",
        "# on va re-entrianer tout le réseau, càd toutes les couches\n",
        "# 2*conv; 2*conv; 3*conv; 3*conv; 3*conv:\n",
        "NasNetMobile_fine_tuned_without_first_bloc = NasNetMobile_fine_tuned\n",
        "for layer in NasNetMobile_fine_tuned_without_first_bloc.layers[122:]:\n",
        "  layer.trainable = True\n",
        "\n",
        "# visualiser les couches à entrainer\n",
        "for layer in NasNetMobile_fine_tuned_without_first_bloc.layers:\n",
        "    print(\"{}: {}\".format(layer, layer.trainable))\n",
        "\n",
        "# apres ces changements, on doit recompiler le modele pour qu'il les prennent en considération\n",
        "# on utilise un optimizer SGD avec un taux d'apprentissage tres faible au debut\n",
        "print(\"[INFO] re-compiling model...\")\n",
        "opt = SGD(lr=1e-4, momentum=0.9)\n",
        "NasNetMobile_fine_tuned_without_first_bloc.compile(loss=\"categorical_crossentropy\", optimizer=opt, metrics=[\"accuracy\"])"
      ],
      "execution_count": 0,
      "outputs": []
    },
    {
      "cell_type": "code",
      "metadata": {
        "id": "B-oA89eM7j5a",
        "colab_type": "code",
        "colab": {}
      },
      "source": [
        "# entrainer la couche FC pour 50 epoch (rappel: toutes les autres couches sont gelees donc leurs poids resteront\n",
        "# inchangés\n",
        "BATCH_SIZE = 8\n",
        "print(\"[INFO] training head...\")\n",
        "H1 = NasNetMobile_fine_tuned_without_first_bloc.fit_generator(train_iterator, steps_per_epoch=totalTrain // BATCH_SIZE,\n",
        "                        validation_data=test_iterator,\n",
        "                        validation_steps=totalTest // BATCH_SIZE,\n",
        "                        epochs=75)"
      ],
      "execution_count": 0,
      "outputs": []
    },
    {
      "cell_type": "code",
      "metadata": {
        "id": "eUcS-oxO9PRM",
        "colab_type": "code",
        "outputId": "ea6c6a65-03e4-4397-e1a8-919026750f1e",
        "colab": {
          "base_uri": "https://localhost:8080/",
          "height": 718
        }
      },
      "source": [
        "BATCH_SIZE = 16\n",
        "# Evaluer le modele juste apres avoir entrainer \n",
        "print(\"[INFO] evaluating after training network head...\")\n",
        "test_iterator.reset()\n",
        "predIdxs = NasNetMobile_fine_tuned_without_first_bloc.predict_generator(test_iterator, steps=(totalTest // BATCH_SIZE) + 1)\n",
        "predIdxs = np.argmax(predIdxs, axis=1)\n",
        "# afficher les performances de classification\n",
        "print(classification_report(test_iterator.classes, predIdxs, target_names=test_iterator.class_indices.keys()))\n",
        "plot_training(H1, 75, TRAINING_HISTORY_PLOT_PATH_WITHOUT_FIRST_BLOC)\n",
        "\n",
        "train_iterator.reset()\n",
        "test_iterator.reset()"
      ],
      "execution_count": 0,
      "outputs": [
        {
          "output_type": "stream",
          "text": [
            "[INFO] evaluating after training network head...\n",
            "                precision    recall  f1-score   support\n",
            "\n",
            "         alder       0.00      0.00      0.00        17\n",
            "         beech       0.00      0.00      0.00        15\n",
            "         birch       0.00      0.00      0.00        18\n",
            "      chestnut       0.00      0.00      0.00        16\n",
            " ginkgo-biloba       0.00      0.00      0.00        15\n",
            "      hornbeam       0.00      0.00      0.00        15\n",
            "horse-chestnut       0.00      0.00      0.00        16\n",
            "        linden       0.00      0.00      0.00        15\n",
            "           oak       0.08      0.93      0.15        15\n",
            "oriental-plane       0.00      0.00      0.00        16\n",
            "          pine       0.00      0.00      0.00        15\n",
            "        spruce       0.00      0.00      0.00        22\n",
            "\n",
            "      accuracy                           0.07       195\n",
            "     macro avg       0.01      0.08      0.01       195\n",
            "  weighted avg       0.01      0.07      0.01       195\n",
            "\n"
          ],
          "name": "stdout"
        },
        {
          "output_type": "stream",
          "text": [
            "/usr/local/lib/python3.6/dist-packages/sklearn/metrics/_classification.py:1272: UndefinedMetricWarning: Precision and F-score are ill-defined and being set to 0.0 in labels with no predicted samples. Use `zero_division` parameter to control this behavior.\n",
            "  _warn_prf(average, modifier, msg_start, len(result))\n"
          ],
          "name": "stderr"
        },
        {
          "output_type": "display_data",
          "data": {
            "image/png": "[encoded data removed]",
            "text/plain": [
              "<Figure size 432x288 with 1 Axes>"
            ]
          },
          "metadata": {
            "tags": []
          }
        },
        {
          "output_type": "display_data",
          "data": {
            "text/plain": [
              "<Figure size 432x288 with 0 Axes>"
            ]
          },
          "metadata": {
            "tags": []
          }
        }
      ]
    },
    {
      "cell_type": "code",
      "metadata": {
        "id": "a8PQVi2l9zky",
        "colab_type": "code",
        "colab": {}
      },
      "source": [
        "NasNetMobile_fine_tuned_without_first_bloc.save(MODEL_PATH_WITHOUT_FIRST_BLOC)"
      ],
      "execution_count": 0,
      "outputs": []
    },
    {
      "cell_type": "markdown",
      "metadata": {
        "id": "k_ZqbB6mAKL8",
        "colab_type": "text"
      },
      "source": [
        "**GridSearch Evaluation finetuned Model without the first bloc and all the rest of layers are trainable!**"
      ]
    },
    {
      "cell_type": "code",
      "metadata": {
        "id": "L7cRLDQRALXS",
        "colab_type": "code",
        "colab": {}
      },
      "source": [
        "# Fonction pour creer le modele Keras\n",
        "def define_model_NasNetMobile_fine_tuned_without_first_bloc():\n",
        "  classes = 12\n",
        "  NasNetMobile_fine_tuned_without_first_bloc = NasNetMobile_fine_tuned\n",
        "  for layer in NasNetMobile_fine_tuned_without_first_bloc.layers[122:]:\n",
        "    layer.trainable = True\n",
        "  print(\"[INFO] compiling model...\")\n",
        "  opt = SGD(lr=1e-4, momentum=0.9)\n",
        "  NasNetMobile_fine_tuned_without_first_bloc.compile(loss='categorical_crossentropy', optimizer=opt, metrics=[\"accuracy\"])\n",
        "  return NasNetMobile_fine_tuned_without_first_bloc \n",
        "\n",
        "model = KerasClassifier(build_fn = define_model_NasNetMobile_fine_tuned_without_first_bloc, verbose=1) \n",
        "# parametres de la grille de recherche\n",
        "grid_param = {'batch_size' : [8, 16],\n",
        "              'epochs' : [75, 100, 150]}\n",
        "grid_search = GridSearchCV(estimator=model, param_grid=grid_param, cv=3)\n",
        "grid_result = grid_search.fit(x_train, y_train)\n",
        "# afficher les resultats\n",
        "print(\"Best: %f using %s\" % (grid_result.best_score_, grid_result.best_params_))\n",
        "# afficher les resultats detailles\n",
        "means = grid_result.cv_results_['mean_test_score']\n",
        "stds = grid_result.cv_results_['std_test_score']\n",
        "params = grid_result.cv_results_['params']\n",
        "for mean, stdev, param in zip(means, stds, params):\n",
        "  print(\"mean (+/- std) = %f (%f) with: %r\" % (mean, stdev, param))"
      ],
      "execution_count": 0,
      "outputs": []
    },
    {
      "cell_type": "markdown",
      "metadata": {
        "id": "nvYUoO9ICDgW",
        "colab_type": "text"
      },
      "source": [
        "**Geler les deux premièrs blocs et faire un fine-tuning sur les couches supérieures**"
      ]
    },
    {
      "cell_type": "code",
      "metadata": {
        "id": "nw-QOOonCCMo",
        "colab_type": "code",
        "outputId": "99a56d88-8049-4cfe-f7d7-defcc3eff44b",
        "colab": {
          "base_uri": "https://localhost:8080/",
          "height": 34
        }
      },
      "source": [
        "print(\"[INFO] loading model...\")\n",
        "model_NasNet_fine_tuned_without_first_bloc = load_model('/content/drive/My Drive/NasNet Models/mNasNet Model WITHOUT FIRST BLOC.model')"
      ],
      "execution_count": 0,
      "outputs": [
        {
          "output_type": "stream",
          "text": [
            "[INFO] loading model...\n"
          ],
          "name": "stdout"
        }
      ]
    },
    {
      "cell_type": "code",
      "metadata": {
        "id": "rgwSXRa9H81t",
        "colab_type": "code",
        "colab": {}
      },
      "source": [
        "# -----------------------------------------------------------------\n",
        "# a ce stade la FC est entrainée sur la nouvelle base.\n",
        "# on va re-entrianer tout le réseau, càd toutes les couches\n",
        "# 2*conv; 2*conv; 3*conv; 3*conv; 3*conv:\n",
        "model_NasNet_fine_tuned_without_two_first_bloc = model_NasNet_fine_tuned_without_first_bloc\n",
        "# Geler les deux premiers bloc\n",
        "for layer in model_NasNet_fine_tuned_without_two_first_bloc.layers[215:]:\n",
        "  layer.trainable = True\n",
        "\n",
        "# visualiser les couches à entrainer\n",
        "for layer in model_NasNet_fine_tuned_without_two_first_bloc.layers:\n",
        "    print(\"{}: {}\".format(layer, layer.trainable))\n",
        "\n",
        "# apres ces changements, on doit recompiler le modele pour qu'il les prennent en considération\n",
        "# on utilise un optimizer SGD avec un taux d'apprentissage tres faible au debut\n",
        "print(\"[INFO] re-compiling model...\")\n",
        "opt = SGD(lr=1e-4, momentum=0.9)\n",
        "model_NasNet_fine_tuned_without_two_first_bloc.compile(loss=\"categorical_crossentropy\", optimizer=opt,\n",
        "              metrics=[\"accuracy\"])"
      ],
      "execution_count": 0,
      "outputs": []
    },
    {
      "cell_type": "code",
      "metadata": {
        "id": "sP7FTXatIUyT",
        "colab_type": "code",
        "colab": {}
      },
      "source": [
        "# entrainer la couche FC pour 50 epoch (rappel: toutes les autres couches sont gelees donc leurs poids resteront\n",
        "# inchangés\n",
        "BATCH_SIZE = 16\n",
        "print(\"[INFO] training head...\")\n",
        "H2 = model_NasNet_fine_tuned_without_two_first_bloc.fit_generator(train_iterator, steps_per_epoch=totalTrain // BATCH_SIZE,\n",
        "                        validation_data=test_iterator,\n",
        "                        validation_steps=totalTest // BATCH_SIZE,\n",
        "                        epochs=75)"
      ],
      "execution_count": 0,
      "outputs": []
    },
    {
      "cell_type": "code",
      "metadata": {
        "id": "tF_GxooUIhHo",
        "colab_type": "code",
        "outputId": "75eec844-43b4-46ab-99e9-5505d06430f2",
        "colab": {
          "base_uri": "https://localhost:8080/",
          "height": 718
        }
      },
      "source": [
        "BATCH_SIZE = 16\n",
        "# Evaluer le modele juste apres avoir entrainer \n",
        "print(\"[INFO] evaluating after training network head...\")\n",
        "test_iterator.reset()\n",
        "predIdxs = model_NasNet_fine_tuned_without_two_first_bloc.predict_generator(test_iterator, steps=(totalTest // BATCH_SIZE) + 1)\n",
        "predIdxs = np.argmax(predIdxs, axis=1)\n",
        "# afficher les performances de classification\n",
        "print(classification_report(test_iterator.classes, predIdxs, target_names=test_iterator.class_indices.keys()))\n",
        "plot_training(H2, 75, TRAINING_HISTORY_PLOT_PATH_WITHOUT_TWO_FIRST_BLOC)\n",
        "\n",
        "train_iterator.reset()\n",
        "test_iterator.reset()"
      ],
      "execution_count": 0,
      "outputs": [
        {
          "output_type": "stream",
          "text": [
            "[INFO] evaluating after training network head...\n"
          ],
          "name": "stdout"
        },
        {
          "output_type": "stream",
          "text": [
            "/usr/local/lib/python3.6/dist-packages/sklearn/metrics/_classification.py:1272: UndefinedMetricWarning: Precision and F-score are ill-defined and being set to 0.0 in labels with no predicted samples. Use `zero_division` parameter to control this behavior.\n",
            "  _warn_prf(average, modifier, msg_start, len(result))\n"
          ],
          "name": "stderr"
        },
        {
          "output_type": "stream",
          "text": [
            "                precision    recall  f1-score   support\n",
            "\n",
            "         alder       0.00      0.00      0.00        17\n",
            "         beech       0.00      0.00      0.00        15\n",
            "         birch       0.00      0.00      0.00        18\n",
            "      chestnut       0.00      0.00      0.00        16\n",
            " ginkgo-biloba       0.00      0.00      0.00        15\n",
            "      hornbeam       0.00      0.00      0.00        15\n",
            "horse-chestnut       0.00      0.00      0.00        16\n",
            "        linden       0.00      0.00      0.00        15\n",
            "           oak       0.08      1.00      0.15        15\n",
            "oriental-plane       0.00      0.00      0.00        16\n",
            "          pine       0.00      0.00      0.00        15\n",
            "        spruce       0.00      0.00      0.00        22\n",
            "\n",
            "      accuracy                           0.08       195\n",
            "     macro avg       0.01      0.08      0.01       195\n",
            "  weighted avg       0.01      0.08      0.01       195\n",
            "\n"
          ],
          "name": "stdout"
        },
        {
          "output_type": "display_data",
          "data": {
            "image/png": "[encoded data removed]",
            "text/plain": [
              "<Figure size 432x288 with 1 Axes>"
            ]
          },
          "metadata": {
            "tags": []
          }
        },
        {
          "output_type": "display_data",
          "data": {
            "text/plain": [
              "<Figure size 432x288 with 0 Axes>"
            ]
          },
          "metadata": {
            "tags": []
          }
        }
      ]
    },
    {
      "cell_type": "code",
      "metadata": {
        "id": "jVEnBCMRIrdU",
        "colab_type": "code",
        "colab": {}
      },
      "source": [
        "model_NasNet_fine_tuned_without_two_first_bloc.save(MODEL_PATH_WITHOUT_TWO_FIRST_BLOC)"
      ],
      "execution_count": 0,
      "outputs": []
    },
    {
      "cell_type": "markdown",
      "metadata": {
        "id": "vj9PwQvMI7UR",
        "colab_type": "text"
      },
      "source": [
        "**GridSearch Evaluation finetuned Model without the TWO first blo and all the rest of layers are trainable!**"
      ]
    },
    {
      "cell_type": "code",
      "metadata": {
        "id": "bofZ8_IwI63N",
        "colab_type": "code",
        "colab": {}
      },
      "source": [
        "# Fonction pour creer le modele Keras\n",
        "def define_model_NasNet_fine_tuned_without_two_first_bloc():\n",
        "  classes = 12\n",
        "  model_NasNet_fine_tuned_without_two_first_bloc = model_NasNet_fine_tuned_without_first_bloc\n",
        "  # Geler les deux premiers bloc\n",
        "  for layer in model_NasNet_fine_tuned_without_two_first_bloc.layers[215:]:\n",
        "    layer.trainable = True\n",
        "\n",
        "  print(\"[INFO] compiling model...\")\n",
        "  opt = SGD(lr=1e-4, momentum=0.9)\n",
        "  model_NasNet_fine_tuned_without_two_first_bloc.compile(loss='categorical_crossentropy', optimizer=opt, metrics=[\"accuracy\"])\n",
        "  return model_NasNet_fine_tuned_without_two_first_bloc \n",
        "\n",
        "model_ResNet34_fine_tuned_without_two_first_bloc = KerasClassifier(build_fn=define_model_NasNet_fine_tuned_without_two_first_bloc, verbose=1) \n",
        "# parametres de la grille de recherche\n",
        "grid_param = {'batch_size' : [8, 16],\n",
        "              'epochs' : [75, 100, 150]}\n",
        "grid_search = GridSearchCV(estimator=model_ResNet34_fine_tuned_without_two_first_bloc, param_grid=grid_param, cv=3)\n",
        "grid_result = grid_search.fit(x_train, y_train)\n",
        "# afficher les resultats\n",
        "print(\"Best: %f using %s\" % (grid_result.best_score_, grid_result.best_params_))\n",
        "# afficher les resultats detailles\n",
        "means = grid_result.cv_results_['mean_test_score']\n",
        "stds = grid_result.cv_results_['std_test_score']\n",
        "params = grid_result.cv_results_['params']\n",
        "for mean, stdev, param in zip(means, stds, params):\n",
        "  print(\"mean (+/- std) = %f (%f) with: %r\" % (mean, stdev, param))"
      ],
      "execution_count": 0,
      "outputs": []
    },
    {
      "cell_type": "code",
      "metadata": {
        "id": "0etCMKJoJavN",
        "colab_type": "code",
        "outputId": "c9d16407-9bdb-493b-e182-856102806c46",
        "colab": {
          "base_uri": "https://localhost:8080/",
          "height": 35
        }
      },
      "source": [
        "print(\"[INFO] loading model...\")\n",
        "model_NasNet_fine_tuned = load_model('/content/drive/My Drive/NasNet Models/mNasNet Model FINE TUNING.model')"
      ],
      "execution_count": 0,
      "outputs": [
        {
          "output_type": "stream",
          "text": [
            "[INFO] loading model...\n"
          ],
          "name": "stdout"
        }
      ]
    },
    {
      "cell_type": "code",
      "metadata": {
        "id": "fNNxCfZGJcpU",
        "colab_type": "code",
        "colab": {}
      },
      "source": [
        "# initialiser un objet LabelEncoder\n",
        "le = None\n",
        "# parcourir les repo train et test\n",
        "for split in (TRAIN, TEST):\n",
        "    # charger les images\n",
        "    print(\"[INFO] processing '{} split'...\".format(split))\n",
        "    p = os.path.sep.join([BASE_PATH, split])\n",
        "    imagePaths = list(paths.list_images(p))\n",
        "\n",
        "    # extraire les labels des classes à partir du chemin\n",
        "    random.shuffle(imagePaths)\n",
        "    labels = [p.split(os.path.sep)[-2] for p in imagePaths]\n",
        "\n",
        "    # creer un objet LabelEncoder\n",
        "    # qui va encoder les label avec des valeur entre 0 and nbr_class-1.\n",
        "    if le is None:\n",
        "        le = LabelEncoder()\n",
        "        le.fit(labels)\n",
        "\n",
        "    # ouvrir le fichier csv en mode ecriture\n",
        "    csvPath = os.path.sep.join([BASE_CSV_PATH, \"{}.csv\".format(split)])\n",
        "    csv = open(csvPath, \"w\")\n",
        "    # parcourir les images en batch\n",
        "    for (b, i) in enumerate(range(0, len(imagePaths), BATCH_SIZE)):\n",
        "        print(\"[INFO] processing batch {}/{}\".format(b + 1, int(np.ceil(len(imagePaths) / float(BATCH_SIZE)))))\n",
        "        # former des batch avec le chemin des images et leurs labels\n",
        "        batchPaths = imagePaths[i:i + BATCH_SIZE]\n",
        "        batchLabels = le.transform(labels[i:i + BATCH_SIZE])\n",
        "        # initialiser la liste des images qu'on va passer dans le CNN pour l'extraction de caracteristiques\n",
        "        batchImages = []\n",
        "        # loop over the images and labels in the current batch\n",
        "        for imagePath in batchPaths:\n",
        "            # charger l'image en taille 224x224 pixels\n",
        "            image = load_img(imagePath, target_size=(224, 224))\n",
        "            image = img_to_array(image)\n",
        "            # image => tensor\n",
        "            image = np.expand_dims(image, axis=0)\n",
        "            # normalisation\n",
        "            #image = imagenet_utils.preprocess_input(image)\n",
        "            # ajouter l'image au batch\n",
        "            batchImages.append(image)\n",
        "        # passer l'image le long du CNN, extraire les caractéristiques et les representer comme vecteur\n",
        "        batchImages = np.vstack(batchImages)\n",
        "        model_extract = Model(model_NasNet_fine_tuned.inputs, model_NasNet_fine_tuned.layers[-2].output)\n",
        "        features = model_extract.predict(batchImages, batch_size=BATCH_SIZE)\n",
        "        features = features.reshape((features.shape[0], 1056))\n",
        "        # sauvegarder \"label, vecteur de caractéristiques\" dans le fichiers CSV\n",
        "        for (label, vec) in zip(batchLabels, features):\n",
        "            vec = \",\".join([str(v) for v in vec])\n",
        "            csv.write(\"{},{}\\n\".format(label, vec))\n",
        "\n",
        "    # fermer le fichier CSV\n",
        "    csv.close()\n"
      ],
      "execution_count": 0,
      "outputs": []
    },
    {
      "cell_type": "code",
      "metadata": {
        "id": "vQiOfmbQTS00",
        "colab_type": "code",
        "colab": {}
      },
      "source": [
        "print(\"[INFO] loading model...\")\n",
        "model_NasNet_fine_tuned_without_first_bloc = load_model('/content/drive/My Drive/NasNet Models/mNasNet Model WITHOUT FIRST BLOC.model')"
      ],
      "execution_count": 0,
      "outputs": []
    },
    {
      "cell_type": "code",
      "metadata": {
        "id": "vnjeIStXUUSg",
        "colab_type": "code",
        "outputId": "9947d445-c23d-424e-b9a3-a64f5ea59f65",
        "colab": {
          "base_uri": "https://localhost:8080/",
          "height": 534
        }
      },
      "source": [
        "# initialiser un objet LabelEncoder\n",
        "le = None\n",
        "# parcourir les repo train et test\n",
        "for split in (TRAIN, TEST):\n",
        "    # charger les images\n",
        "    print(\"[INFO] processing '{} split'...\".format(split))\n",
        "    p = os.path.sep.join([BASE_PATH, split])\n",
        "    imagePaths = list(paths.list_images(p))\n",
        "\n",
        "    # extraire les labels des classes à partir du chemin\n",
        "    random.shuffle(imagePaths)\n",
        "    labels = [p.split(os.path.sep)[-2] for p in imagePaths]\n",
        "\n",
        "    # creer un objet LabelEncoder\n",
        "    # qui va encoder les label avec des valeur entre 0 and nbr_class-1.\n",
        "    if le is None:\n",
        "        le = LabelEncoder()\n",
        "        le.fit(labels)\n",
        "\n",
        "    # ouvrir le fichier csv en mode ecriture\n",
        "    csvPath = os.path.sep.join([BASE_CSV_PATH, \"{}.csv\".format(split)])\n",
        "    csv = open(csvPath, \"w\")\n",
        "    # parcourir les images en batch\n",
        "    for (b, i) in enumerate(range(0, len(imagePaths), BATCH_SIZE)):\n",
        "        print(\"[INFO] processing batch {}/{}\".format(b + 1, int(np.ceil(len(imagePaths) / float(BATCH_SIZE)))))\n",
        "        # former des batch avec le chemin des images et leurs labels\n",
        "        batchPaths = imagePaths[i:i + BATCH_SIZE]\n",
        "        batchLabels = le.transform(labels[i:i + BATCH_SIZE])\n",
        "        # initialiser la liste des images qu'on va passer dans le CNN pour l'extraction de caracteristiques\n",
        "        batchImages = []\n",
        "        # loop over the images and labels in the current batch\n",
        "        for imagePath in batchPaths:\n",
        "            # charger l'image en taille 224x224 pixels\n",
        "            image = load_img(imagePath, target_size=(224, 224))\n",
        "            image = img_to_array(image)\n",
        "            # image => tensor\n",
        "            image = np.expand_dims(image, axis=0)\n",
        "            # normalisation\n",
        "            #image = imagenet_utils.preprocess_input(image)\n",
        "            # ajouter l'image au batch\n",
        "            batchImages.append(image)\n",
        "        # passer l'image le long du CNN, extraire les caractéristiques et les representer comme vecteur\n",
        "        batchImages = np.vstack(batchImages)\n",
        "        model_extract = Model(model_NasNet_fine_tuned_without_first_bloc.inputs, model_NasNet_fine_tuned_without_first_bloc.layers[-2].output)\n",
        "        features = model_extract.predict(batchImages, batch_size=BATCH_SIZE)\n",
        "        features = features.reshape((features.shape[0], 1056))\n",
        "        # sauvegarder \"label, vecteur de caractéristiques\" dans le fichiers CSV\n",
        "        for (label, vec) in zip(batchLabels, features):\n",
        "            vec = \",\".join([str(v) for v in vec])\n",
        "            csv.write(\"{},{}\\n\".format(label, vec))\n",
        "\n",
        "    # fermer le fichier CSV\n",
        "    csv.close()\n"
      ],
      "execution_count": 0,
      "outputs": [
        {
          "output_type": "stream",
          "text": [
            "[INFO] processing 'Trunk12_resized_train split'...\n",
            "[INFO] processing batch 1/13\n",
            "[INFO] processing batch 2/13\n",
            "[INFO] processing batch 3/13\n",
            "[INFO] processing batch 4/13\n",
            "[INFO] processing batch 5/13\n",
            "[INFO] processing batch 6/13\n",
            "[INFO] processing batch 7/13\n",
            "[INFO] processing batch 8/13\n",
            "[INFO] processing batch 9/13\n",
            "[INFO] processing batch 10/13\n",
            "[INFO] processing batch 11/13\n",
            "[INFO] processing batch 12/13\n",
            "[INFO] processing batch 13/13\n",
            "[INFO] processing 'Trunk12_resized_test split'...\n",
            "[INFO] processing batch 1/13\n",
            "[INFO] processing batch 2/13\n",
            "[INFO] processing batch 3/13\n",
            "[INFO] processing batch 4/13\n",
            "[INFO] processing batch 5/13\n",
            "[INFO] processing batch 6/13\n",
            "[INFO] processing batch 7/13\n",
            "[INFO] processing batch 8/13\n",
            "[INFO] processing batch 9/13\n",
            "[INFO] processing batch 10/13\n",
            "[INFO] processing batch 11/13\n",
            "[INFO] processing batch 12/13\n",
            "[INFO] processing batch 13/13\n"
          ],
          "name": "stdout"
        }
      ]
    },
    {
      "cell_type": "code",
      "metadata": {
        "id": "WhIVsvu1XX8q",
        "colab_type": "code",
        "outputId": "e2508df7-c278-4f5c-d075-f8f5ca53097c",
        "colab": {
          "base_uri": "https://localhost:8080/",
          "height": 35
        }
      },
      "source": [
        "print(\"[INFO] loading model...\")\n",
        "model_NasNet_fine_tuned_without_two_first_bloc = load_model('/content/drive/My Drive/NasNet Models/mNasNet Model WITHOUT TWO FIRST BLOC.model')"
      ],
      "execution_count": 0,
      "outputs": [
        {
          "output_type": "stream",
          "text": [
            "[INFO] loading model...\n"
          ],
          "name": "stdout"
        }
      ]
    },
    {
      "cell_type": "code",
      "metadata": {
        "id": "3YnEGRAdX2zd",
        "colab_type": "code",
        "outputId": "a36dc1dc-fb49-426b-b035-d99cafa81db6",
        "colab": {
          "base_uri": "https://localhost:8080/",
          "height": 534
        }
      },
      "source": [
        "# initialiser un objet LabelEncoder\n",
        "le = None\n",
        "# parcourir les repo train et test\n",
        "for split in (TRAIN, TEST):\n",
        "    # charger les images\n",
        "    print(\"[INFO] processing '{} split'...\".format(split))\n",
        "    p = os.path.sep.join([BASE_PATH, split])\n",
        "    imagePaths = list(paths.list_images(p))\n",
        "\n",
        "    # extraire les labels des classes à partir du chemin\n",
        "    random.shuffle(imagePaths)\n",
        "    labels = [p.split(os.path.sep)[-2] for p in imagePaths]\n",
        "\n",
        "    # creer un objet LabelEncoder\n",
        "    # qui va encoder les label avec des valeur entre 0 and nbr_class-1.\n",
        "    if le is None:\n",
        "        le = LabelEncoder()\n",
        "        le.fit(labels)\n",
        "\n",
        "    # ouvrir le fichier csv en mode ecriture\n",
        "    csvPath = os.path.sep.join([BASE_CSV_PATH, \"{}.csv\".format(split)])\n",
        "    csv = open(csvPath, \"w\")\n",
        "    # parcourir les images en batch\n",
        "    for (b, i) in enumerate(range(0, len(imagePaths), BATCH_SIZE)):\n",
        "        print(\"[INFO] processing batch {}/{}\".format(b + 1, int(np.ceil(len(imagePaths) / float(BATCH_SIZE)))))\n",
        "        # former des batch avec le chemin des images et leurs labels\n",
        "        batchPaths = imagePaths[i:i + BATCH_SIZE]\n",
        "        batchLabels = le.transform(labels[i:i + BATCH_SIZE])\n",
        "        # initialiser la liste des images qu'on va passer dans le CNN pour l'extraction de caracteristiques\n",
        "        batchImages = []\n",
        "        # loop over the images and labels in the current batch\n",
        "        for imagePath in batchPaths:\n",
        "            # charger l'image en taille 224x224 pixels\n",
        "            image = load_img(imagePath, target_size=(224, 224))\n",
        "            image = img_to_array(image)\n",
        "            # image => tensor\n",
        "            image = np.expand_dims(image, axis=0)\n",
        "            # normalisation\n",
        "            #image = imagenet_utils.preprocess_input(image)\n",
        "            # ajouter l'image au batch\n",
        "            batchImages.append(image)\n",
        "        # passer l'image le long du CNN, extraire les caractéristiques et les representer comme vecteur\n",
        "        batchImages = np.vstack(batchImages)\n",
        "        model_extract = Model(model_NasNet_fine_tuned_without_two_first_bloc.inputs, model_NasNet_fine_tuned_without_two_first_bloc.layers[-2].output)\n",
        "        features = model_extract.predict(batchImages, batch_size=BATCH_SIZE)\n",
        "        features = features.reshape((features.shape[0], 1056))\n",
        "        # sauvegarder \"label, vecteur de caractéristiques\" dans le fichiers CSV\n",
        "        for (label, vec) in zip(batchLabels, features):\n",
        "            vec = \",\".join([str(v) for v in vec])\n",
        "            csv.write(\"{},{}\\n\".format(label, vec))\n",
        "\n",
        "    # fermer le fichier CSV\n",
        "    csv.close()\n"
      ],
      "execution_count": 0,
      "outputs": [
        {
          "output_type": "stream",
          "text": [
            "[INFO] processing 'Trunk12_resized_train split'...\n",
            "[INFO] processing batch 1/13\n",
            "[INFO] processing batch 2/13\n",
            "[INFO] processing batch 3/13\n",
            "[INFO] processing batch 4/13\n",
            "[INFO] processing batch 5/13\n",
            "[INFO] processing batch 6/13\n",
            "[INFO] processing batch 7/13\n",
            "[INFO] processing batch 8/13\n",
            "[INFO] processing batch 9/13\n",
            "[INFO] processing batch 10/13\n",
            "[INFO] processing batch 11/13\n",
            "[INFO] processing batch 12/13\n",
            "[INFO] processing batch 13/13\n",
            "[INFO] processing 'Trunk12_resized_test split'...\n",
            "[INFO] processing batch 1/13\n",
            "[INFO] processing batch 2/13\n",
            "[INFO] processing batch 3/13\n",
            "[INFO] processing batch 4/13\n",
            "[INFO] processing batch 5/13\n",
            "[INFO] processing batch 6/13\n",
            "[INFO] processing batch 7/13\n",
            "[INFO] processing batch 8/13\n",
            "[INFO] processing batch 9/13\n",
            "[INFO] processing batch 10/13\n",
            "[INFO] processing batch 11/13\n",
            "[INFO] processing batch 12/13\n",
            "[INFO] processing batch 13/13\n"
          ],
          "name": "stdout"
        }
      ]
    }
  ]
}