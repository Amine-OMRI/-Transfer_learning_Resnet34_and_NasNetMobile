{
  "nbformat": 4,
  "nbformat_minor": 0,
  "metadata": {
    "colab": {
      "name": "transfert_learning_Resnet34",
      "provenance": [],
      "collapsed_sections": [],
      "include_colab_link": true
    },
    "kernelspec": {
      "name": "python3",
      "display_name": "Python 3"
    },
    "accelerator": "GPU"
  },
  "cells": [
    {
      "cell_type": "markdown",
      "metadata": {
        "id": "view-in-github",
        "colab_type": "text"
      },
      "source": [
        "<a href=\"https://colab.research.google.com/github/Amine-OMRI/-Transfer_learning_Resnet34_and_NasNetMobile/blob/master/transfert_learning_Resnet34.ipynb\" target=\"_parent\"><img src=\"https://colab.research.google.com/assets/colab-badge.svg\" alt=\"Open In Colab\"/></a>"
      ]
    },
    {
      "cell_type": "code",
      "metadata": {
        "id": "WnSMdnIxWpOw",
        "colab_type": "code",
        "colab": {}
      },
      "source": [
        "from google.colab import drive\n",
        "drive.mount('/content/drive/')"
      ],
      "execution_count": 0,
      "outputs": []
    },
    {
      "cell_type": "code",
      "metadata": {
        "id": "b-qeMEm4dpkB",
        "colab_type": "code",
        "colab": {}
      },
      "source": [
        "pip install -U image-classifiers==0.2.2"
      ],
      "execution_count": 0,
      "outputs": []
    },
    {
      "cell_type": "code",
      "metadata": {
        "id": "BkGnvpDUd9yZ",
        "colab_type": "code",
        "colab": {}
      },
      "source": [
        "pip install image-classifiers==1.0.0"
      ],
      "execution_count": 0,
      "outputs": []
    },
    {
      "cell_type": "code",
      "metadata": {
        "id": "FdQ3DcWieHBn",
        "colab_type": "code",
        "colab": {}
      },
      "source": [
        "pip install git+https://github.com/qubvel/classification_models.git"
      ],
      "execution_count": 0,
      "outputs": []
    },
    {
      "cell_type": "code",
      "metadata": {
        "id": "1YBGTWirUWZh",
        "colab_type": "code",
        "colab": {}
      },
      "source": [
        "import keras\n",
        "from keras.utils import np_utils\n",
        "from keras.layers import Conv2D, MaxPooling2D, Dense, Input, Activation, Dropout, GlobalAveragePooling2D, \\\n",
        "    BatchNormalization, concatenate, AveragePooling2D, Flatten\n",
        "from keras.utils import to_categorical\n",
        "import matplotlib.pyplot as plt\n",
        "from keras.models import Model\n",
        "from keras.models import load_model\n",
        "from sklearn.metrics import classification_report\n",
        "from sklearn.preprocessing import LabelEncoder\n",
        "from keras.applications import imagenet_utils\n",
        "from keras.preprocessing.image import img_to_array\n",
        "from keras.preprocessing.image import load_img\n",
        "from keras.optimizers import SGD\n",
        "from keras import optimizers\n",
        "from keras.wrappers.scikit_learn import KerasClassifier\n",
        "from sklearn.model_selection import GridSearchCV\n",
        "from keras.callbacks import LearningRateScheduler\n",
        "from keras.preprocessing.image import ImageDataGenerator\n",
        "from classification_models.keras import Classifiers\n",
        "from imutils import paths   \n",
        "import numpy as np\n",
        "import pickle\n",
        "import random\n",
        "import os"
      ],
      "execution_count": 0,
      "outputs": []
    },
    {
      "cell_type": "code",
      "metadata": {
        "id": "I3Pio9CeWwXV",
        "colab_type": "code",
        "colab": {}
      },
      "source": [
        "# definir des nom des repertoires train, et test\n",
        "TRAIN = \"Trunk12_resized_train\"\n",
        "TEST = \"Trunk12_resized_test\"\n",
        "# labels des classes\n",
        "CLASSES = [\"alder\", \"beech\",\"birch\",\"chestnut\",\"ginkgobiloba\",\"hornbeam\",\"horsechestnut\",\"linden\",\"oak\",\"orientalplane\",\"pine\",\"spruce\"]\n",
        "\n",
        "# taille du  batch\n",
        "BATCH_SIZE = 16\n",
        "\n",
        "# reprertoire original de la base de données\n",
        "BASE_PATH = \"/content/drive/My Drive/Trunk12_resized\"\n",
        "#\"/content/Data/AFF11_resized\"\n",
        "\n",
        "# repertoire de sauvegarde du modele apres entrainement\n",
        "Resnet34_save_model_FINE_TUNING = 'Resnet34 Models Model FINE TUNING.model' \n",
        "MODEL_PATH_FINE_TUNING = F\"/content/drive/My Drive/Resnet34 Models/{Resnet34_save_model_FINE_TUNING}\"\n",
        "\n",
        "Resnet34_save_model_WITHOUT_FIRST_BLOC = 'Resnet34 Models Model WITHOUT FIRST BLOC.model' \n",
        "MODEL_PATH_WITHOUT_FIRST_BLOC = F\"/content/drive/My Drive/Resnet34 Models/{Resnet34_save_model_WITHOUT_FIRST_BLOC}\"\n",
        "\n",
        "Resnet34_save_model_WITHOUT_TWO_FIRST_BLOC = 'Resnet34 Models Model WITHOUT TWO FIRST BLOC.model' \n",
        "MODEL_PATH_WITHOUT_TWO_FIRST_BLOC = F\"/content/drive/My Drive/Resnet34 Models/{Resnet34_save_model_WITHOUT_TWO_FIRST_BLOC}\"\n",
        "\n",
        "\n",
        "# repertoire ou sauvegarder le fichier CSV \n",
        "BASE_CSV_PATH = \"/content/drive/My Drive/Resnet34 Models/feature_descriptors\"\n",
        "\n",
        "\n",
        "# graphe d'historique d'entrainement\n",
        "Resnet34_Model_trainnig_graphe = 'Resnet34_Model_trainnig_graphe.png'\n",
        "TRAIN_ALL_PLOT_PATH = F\"/content/drive/My Drive/Resnet34 Models/{Resnet34_Model_trainnig_graphe}\"\n",
        "\n",
        "# repertoire ou sauvegarder le fichier CSV \n",
        "BASE_CSV_PATH = \"/content/drive/My Drive/Resnet34 Models/feature_descriptors\"\n",
        "\n",
        "TRAINING_HISTORY_PLOT_NEW_FC_FINE_TUNING = 'Resnet34_NEW_FC_FINE_TUNING.png'\n",
        "TRAINING_HISTORY_PLOT_NEW_FC_FINE_TUNING = F\"/content/drive/My Drive/Resnet34 Models/{TRAINING_HISTORY_PLOT_NEW_FC_FINE_TUNING}\"\n",
        "\n",
        "TRAINING_HISTORY_PLOT_WITHOUT_FIRST_BLOC = 'Resnet34_WITHOUT_FIRST_BLOC.png'\n",
        "TRAINING_HISTORY_PLOT_PATH_WITHOUT_FIRST_BLOC = F\"/content/drive/My Drive/Resnet34 Models/{TRAINING_HISTORY_PLOT_WITHOUT_FIRST_BLOC}\"\n",
        "\n",
        "TRAINING_HISTORY_PLOT_WITHOUT_TWO_FIRST_BLOC = 'Resnet34_WITHOUT_TWO_FIRST_BLOC.png'\n",
        "TRAINING_HISTORY_PLOT_PATH_WITHOUT_TWO_FIRST_BLOC = F\"/content/drive/My Drive/Resnet34 Models/{TRAINING_HISTORY_PLOT_WITHOUT_TWO_FIRST_BLOC}\"\n"
      ],
      "execution_count": 0,
      "outputs": []
    },
    {
      "cell_type": "code",
      "metadata": {
        "id": "vbbr8xHDUl1t",
        "colab_type": "code",
        "colab": {}
      },
      "source": [
        "# fonction qui dessine les graphes de l'historique d'entrainement\n",
        "def plot_training(H, N, plotPath):\n",
        "    plt.style.use(\"ggplot\")\n",
        "    plt.figure()\n",
        "    plt.plot(np.arange(0, N), H.history[\"loss\"], label=\"train_loss\")\n",
        "    plt.plot(np.arange(0, N), H.history[\"val_loss\"], label=\"val_loss\")\n",
        "    plt.plot(np.arange(0, N), H.history[\"acc\"], label=\"train_acc\")\n",
        "    plt.plot(np.arange(0, N), H.history[\"val_acc\"], label=\"val_acc\")\n",
        "    plt.title(\"Training Loss and Accuracy\")\n",
        "    plt.xlabel(\"Epoch #\")\n",
        "    plt.ylabel(\"Loss/Accuracy\")\n",
        "    plt.legend(loc=\"lower left\")\n",
        "    plt.show()\n",
        "    plt.savefig(plotPath)\n",
        "# chemins vers les repertoires train, val et test\n",
        "trainPath = os.path.sep.join([BASE_PATH, TRAIN])\n",
        "#trainPath =\"/content/Data/AFF11_resized/AFF11_resized_train\"\n",
        "# valPath = os.path.sep.join([config.BASE_PATH, config.VAL])\n",
        "testPath = os.path.sep.join([BASE_PATH, TEST])\n",
        "#testPath =\"/content/Data/AFF11_resized/AFF11_resized_test\"\n",
        "\n",
        "# nbr total des image dans chacun des repo train test\n",
        "totalTrain = len(list(paths.list_images(trainPath)))\n",
        "# totalVal = len(list(paths.list_images(valPath)))\n",
        "totalTest = len(list(paths.list_images(testPath)))\n",
        "\n",
        "\n",
        "\n",
        "print(testPath)\n",
        "print(trainPath)\n",
        "\n",
        "print(totalTest)\n",
        "print(totalTrain)"
      ],
      "execution_count": 0,
      "outputs": []
    },
    {
      "cell_type": "code",
      "metadata": {
        "id": "SWm_sPFtYhkK",
        "colab_type": "code",
        "outputId": "c336e5b3-d1f3-468a-c883-976dd7494a0f",
        "colab": {
          "base_uri": "https://localhost:8080/",
          "height": 52
        }
      },
      "source": [
        "# instancier un objet ImageDataGenerator pour l'augmentation des donnees train\n",
        "trainAug = ImageDataGenerator(\n",
        "    #featurewise_std_normalisation = True,\n",
        "    rescale=1.0/255.0,\n",
        "    horizontal_flip=True\n",
        "    )\n",
        "\n",
        "# instancier un objet ImageDataGenerator pour l'augmentation des donnees test\n",
        "testAug = ImageDataGenerator(\n",
        "    #featurewise_std_normalisation = True\n",
        "    rescale=1.0/255.0\n",
        ")\n",
        "\n",
        "\n",
        "# initialiser le generateur de train\n",
        "train_iterator = trainAug.flow_from_directory(\n",
        "    trainPath,\n",
        "    class_mode=\"categorical\",\n",
        "    target_size=(224, 224),\n",
        "    color_mode=\"rgb\",\n",
        "    shuffle=True,\n",
        "    batch_size=BATCH_SIZE)\n",
        "\n",
        "\n",
        "# initialiser le generateur de test\n",
        "test_iterator = testAug.flow_from_directory(\n",
        "    testPath,\n",
        "    class_mode=\"categorical\",\n",
        "    target_size=(224, 224),\n",
        "    color_mode=\"rgb\",\n",
        "    shuffle=False,\n",
        "    batch_size=BATCH_SIZE)\n"
      ],
      "execution_count": 0,
      "outputs": [
        {
          "output_type": "stream",
          "text": [
            "Found 198 images belonging to 12 classes.\n",
            "Found 195 images belonging to 12 classes.\n"
          ],
          "name": "stdout"
        }
      ]
    },
    {
      "cell_type": "markdown",
      "metadata": {
        "id": "7GS7P9q2bw8w",
        "colab_type": "text"
      },
      "source": [
        "**ResNet34-Fine Tuning** "
      ]
    },
    {
      "cell_type": "code",
      "metadata": {
        "id": "DyZQE6tuYoDp",
        "colab_type": "code",
        "colab": {}
      },
      "source": [
        "# charger le model ResNet34 pre-entrainer sur imagenet et sans la derniere FC: ceci forme la partie basale du modele\n",
        "ResNet34, preprocess_input = Classifiers.get('resnet34')\n",
        "baseModel_ResNet34 = ResNet34(weights=\"imagenet\", include_top=False,input_tensor=Input(shape=(224, 224, 3)))\n",
        "baseModel_ResNet34.summary()"
      ],
      "execution_count": 0,
      "outputs": []
    },
    {
      "cell_type": "markdown",
      "metadata": {
        "id": "Ifyw7Cl56j9S",
        "colab_type": "text"
      },
      "source": [
        "**Faire un fine-tuning sur la nouvelle FC pour un certain nombre d’epoch, afin d’apprendre des poids adaptés à la nouvelle base. Ici les autres couches sont à priori toute gelées**"
      ]
    },
    {
      "cell_type": "code",
      "metadata": {
        "id": "YE0fl-Eljvzv",
        "colab_type": "code",
        "colab": {}
      },
      "source": [
        "# construire une nouvelle couche FC  avec le nombre de classe de la nouvelle base:\n",
        "# ceci forme le partie superieure du modele\n",
        "\n",
        "def define_model_ResNet34():\n",
        "  headModel = baseModel_ResNet34.output\n",
        "  headModel = GlobalAveragePooling2D(name = \"pool1\")(headModel)\n",
        "  headModel = Dense(len(CLASSES), name = \"fc1\")(headModel)\n",
        "  headModel = Activation(\"softmax\",name = \"Softmax\")(headModel)\n",
        "  \n",
        "  # joindre les deux parties pour former le nouveau modele à entrainer\n",
        "  # voir l'image \"vgg-finetuning_FC.png\"\n",
        "  model = Model(inputs=baseModel_ResNet34.input, outputs=headModel)\n",
        "  # geler (ou bien freeze) toute les couche basale du modèle, càd on ne va pas changer leur poids mais laisser les poids\n",
        "  # appris sur imagenet\n",
        "  for layer in baseModel_ResNet34.layers:\n",
        "    layer.trainable = False\n",
        "\n",
        "  return model"
      ],
      "execution_count": 0,
      "outputs": []
    },
    {
      "cell_type": "code",
      "metadata": {
        "id": "bt0CEkzgZ88c",
        "colab_type": "code",
        "outputId": "b5601241-1805-40f0-d252-c6668050d069",
        "colab": {
          "base_uri": "https://localhost:8080/",
          "height": 1000
        }
      },
      "source": [
        "model_ResNet34_fine_tuned = define_model_ResNet34()\n",
        "model_ResNet34_fine_tuned.summary()\n",
        "# compiler le nouveau modele\n",
        "print(\"[INFO] compiling model...\")\n",
        "opt = SGD(lr=1e-4, momentum=0.9)\n",
        "model_ResNet34_fine_tuned.compile(loss=\"categorical_crossentropy\", optimizer=opt,metrics=[\"accuracy\"])"
      ],
      "execution_count": 0,
      "outputs": [
        {
          "output_type": "stream",
          "text": [
            "Model: \"model_2\"\n",
            "__________________________________________________________________________________________________\n",
            "Layer (type)                    Output Shape         Param #     Connected to                     \n",
            "==================================================================================================\n",
            "input_1 (InputLayer)            (None, 224, 224, 3)  0                                            \n",
            "__________________________________________________________________________________________________\n",
            "bn_data (BatchNormalization)    (None, 224, 224, 3)  9           input_1[0][0]                    \n",
            "__________________________________________________________________________________________________\n",
            "zero_padding2d_1 (ZeroPadding2D (None, 230, 230, 3)  0           bn_data[0][0]                    \n",
            "__________________________________________________________________________________________________\n",
            "conv0 (Conv2D)                  (None, 112, 112, 64) 9408        zero_padding2d_1[0][0]           \n",
            "__________________________________________________________________________________________________\n",
            "bn0 (BatchNormalization)        (None, 112, 112, 64) 256         conv0[0][0]                      \n",
            "__________________________________________________________________________________________________\n",
            "relu0 (Activation)              (None, 112, 112, 64) 0           bn0[0][0]                        \n",
            "__________________________________________________________________________________________________\n",
            "zero_padding2d_2 (ZeroPadding2D (None, 114, 114, 64) 0           relu0[0][0]                      \n",
            "__________________________________________________________________________________________________\n",
            "pooling0 (MaxPooling2D)         (None, 56, 56, 64)   0           zero_padding2d_2[0][0]           \n",
            "__________________________________________________________________________________________________\n",
            "stage1_unit1_bn1 (BatchNormaliz (None, 56, 56, 64)   256         pooling0[0][0]                   \n",
            "__________________________________________________________________________________________________\n",
            "stage1_unit1_relu1 (Activation) (None, 56, 56, 64)   0           stage1_unit1_bn1[0][0]           \n",
            "__________________________________________________________________________________________________\n",
            "zero_padding2d_3 (ZeroPadding2D (None, 58, 58, 64)   0           stage1_unit1_relu1[0][0]         \n",
            "__________________________________________________________________________________________________\n",
            "stage1_unit1_conv1 (Conv2D)     (None, 56, 56, 64)   36864       zero_padding2d_3[0][0]           \n",
            "__________________________________________________________________________________________________\n",
            "stage1_unit1_bn2 (BatchNormaliz (None, 56, 56, 64)   256         stage1_unit1_conv1[0][0]         \n",
            "__________________________________________________________________________________________________\n",
            "stage1_unit1_relu2 (Activation) (None, 56, 56, 64)   0           stage1_unit1_bn2[0][0]           \n",
            "__________________________________________________________________________________________________\n",
            "zero_padding2d_4 (ZeroPadding2D (None, 58, 58, 64)   0           stage1_unit1_relu2[0][0]         \n",
            "__________________________________________________________________________________________________\n",
            "stage1_unit1_conv2 (Conv2D)     (None, 56, 56, 64)   36864       zero_padding2d_4[0][0]           \n",
            "__________________________________________________________________________________________________\n",
            "stage1_unit1_sc (Conv2D)        (None, 56, 56, 64)   4096        stage1_unit1_relu1[0][0]         \n",
            "__________________________________________________________________________________________________\n",
            "add_1 (Add)                     (None, 56, 56, 64)   0           stage1_unit1_conv2[0][0]         \n",
            "                                                                 stage1_unit1_sc[0][0]            \n",
            "__________________________________________________________________________________________________\n",
            "stage1_unit2_bn1 (BatchNormaliz (None, 56, 56, 64)   256         add_1[0][0]                      \n",
            "__________________________________________________________________________________________________\n",
            "stage1_unit2_relu1 (Activation) (None, 56, 56, 64)   0           stage1_unit2_bn1[0][0]           \n",
            "__________________________________________________________________________________________________\n",
            "zero_padding2d_5 (ZeroPadding2D (None, 58, 58, 64)   0           stage1_unit2_relu1[0][0]         \n",
            "__________________________________________________________________________________________________\n",
            "stage1_unit2_conv1 (Conv2D)     (None, 56, 56, 64)   36864       zero_padding2d_5[0][0]           \n",
            "__________________________________________________________________________________________________\n",
            "stage1_unit2_bn2 (BatchNormaliz (None, 56, 56, 64)   256         stage1_unit2_conv1[0][0]         \n",
            "__________________________________________________________________________________________________\n",
            "stage1_unit2_relu2 (Activation) (None, 56, 56, 64)   0           stage1_unit2_bn2[0][0]           \n",
            "__________________________________________________________________________________________________\n",
            "zero_padding2d_6 (ZeroPadding2D (None, 58, 58, 64)   0           stage1_unit2_relu2[0][0]         \n",
            "__________________________________________________________________________________________________\n",
            "stage1_unit2_conv2 (Conv2D)     (None, 56, 56, 64)   36864       zero_padding2d_6[0][0]           \n",
            "__________________________________________________________________________________________________\n",
            "add_2 (Add)                     (None, 56, 56, 64)   0           stage1_unit2_conv2[0][0]         \n",
            "                                                                 add_1[0][0]                      \n",
            "__________________________________________________________________________________________________\n",
            "stage1_unit3_bn1 (BatchNormaliz (None, 56, 56, 64)   256         add_2[0][0]                      \n",
            "__________________________________________________________________________________________________\n",
            "stage1_unit3_relu1 (Activation) (None, 56, 56, 64)   0           stage1_unit3_bn1[0][0]           \n",
            "__________________________________________________________________________________________________\n",
            "zero_padding2d_7 (ZeroPadding2D (None, 58, 58, 64)   0           stage1_unit3_relu1[0][0]         \n",
            "__________________________________________________________________________________________________\n",
            "stage1_unit3_conv1 (Conv2D)     (None, 56, 56, 64)   36864       zero_padding2d_7[0][0]           \n",
            "__________________________________________________________________________________________________\n",
            "stage1_unit3_bn2 (BatchNormaliz (None, 56, 56, 64)   256         stage1_unit3_conv1[0][0]         \n",
            "__________________________________________________________________________________________________\n",
            "stage1_unit3_relu2 (Activation) (None, 56, 56, 64)   0           stage1_unit3_bn2[0][0]           \n",
            "__________________________________________________________________________________________________\n",
            "zero_padding2d_8 (ZeroPadding2D (None, 58, 58, 64)   0           stage1_unit3_relu2[0][0]         \n",
            "__________________________________________________________________________________________________\n",
            "stage1_unit3_conv2 (Conv2D)     (None, 56, 56, 64)   36864       zero_padding2d_8[0][0]           \n",
            "__________________________________________________________________________________________________\n",
            "add_3 (Add)                     (None, 56, 56, 64)   0           stage1_unit3_conv2[0][0]         \n",
            "                                                                 add_2[0][0]                      \n",
            "__________________________________________________________________________________________________\n",
            "stage2_unit1_bn1 (BatchNormaliz (None, 56, 56, 64)   256         add_3[0][0]                      \n",
            "__________________________________________________________________________________________________\n",
            "stage2_unit1_relu1 (Activation) (None, 56, 56, 64)   0           stage2_unit1_bn1[0][0]           \n",
            "__________________________________________________________________________________________________\n",
            "zero_padding2d_9 (ZeroPadding2D (None, 58, 58, 64)   0           stage2_unit1_relu1[0][0]         \n",
            "__________________________________________________________________________________________________\n",
            "stage2_unit1_conv1 (Conv2D)     (None, 28, 28, 128)  73728       zero_padding2d_9[0][0]           \n",
            "__________________________________________________________________________________________________\n",
            "stage2_unit1_bn2 (BatchNormaliz (None, 28, 28, 128)  512         stage2_unit1_conv1[0][0]         \n",
            "__________________________________________________________________________________________________\n",
            "stage2_unit1_relu2 (Activation) (None, 28, 28, 128)  0           stage2_unit1_bn2[0][0]           \n",
            "__________________________________________________________________________________________________\n",
            "zero_padding2d_10 (ZeroPadding2 (None, 30, 30, 128)  0           stage2_unit1_relu2[0][0]         \n",
            "__________________________________________________________________________________________________\n",
            "stage2_unit1_conv2 (Conv2D)     (None, 28, 28, 128)  147456      zero_padding2d_10[0][0]          \n",
            "__________________________________________________________________________________________________\n",
            "stage2_unit1_sc (Conv2D)        (None, 28, 28, 128)  8192        stage2_unit1_relu1[0][0]         \n",
            "__________________________________________________________________________________________________\n",
            "add_4 (Add)                     (None, 28, 28, 128)  0           stage2_unit1_conv2[0][0]         \n",
            "                                                                 stage2_unit1_sc[0][0]            \n",
            "__________________________________________________________________________________________________\n",
            "stage2_unit2_bn1 (BatchNormaliz (None, 28, 28, 128)  512         add_4[0][0]                      \n",
            "__________________________________________________________________________________________________\n",
            "stage2_unit2_relu1 (Activation) (None, 28, 28, 128)  0           stage2_unit2_bn1[0][0]           \n",
            "__________________________________________________________________________________________________\n",
            "zero_padding2d_11 (ZeroPadding2 (None, 30, 30, 128)  0           stage2_unit2_relu1[0][0]         \n",
            "__________________________________________________________________________________________________\n",
            "stage2_unit2_conv1 (Conv2D)     (None, 28, 28, 128)  147456      zero_padding2d_11[0][0]          \n",
            "__________________________________________________________________________________________________\n",
            "stage2_unit2_bn2 (BatchNormaliz (None, 28, 28, 128)  512         stage2_unit2_conv1[0][0]         \n",
            "__________________________________________________________________________________________________\n",
            "stage2_unit2_relu2 (Activation) (None, 28, 28, 128)  0           stage2_unit2_bn2[0][0]           \n",
            "__________________________________________________________________________________________________\n",
            "zero_padding2d_12 (ZeroPadding2 (None, 30, 30, 128)  0           stage2_unit2_relu2[0][0]         \n",
            "__________________________________________________________________________________________________\n",
            "stage2_unit2_conv2 (Conv2D)     (None, 28, 28, 128)  147456      zero_padding2d_12[0][0]          \n",
            "__________________________________________________________________________________________________\n",
            "add_5 (Add)                     (None, 28, 28, 128)  0           stage2_unit2_conv2[0][0]         \n",
            "                                                                 add_4[0][0]                      \n",
            "__________________________________________________________________________________________________\n",
            "stage2_unit3_bn1 (BatchNormaliz (None, 28, 28, 128)  512         add_5[0][0]                      \n",
            "__________________________________________________________________________________________________\n",
            "stage2_unit3_relu1 (Activation) (None, 28, 28, 128)  0           stage2_unit3_bn1[0][0]           \n",
            "__________________________________________________________________________________________________\n",
            "zero_padding2d_13 (ZeroPadding2 (None, 30, 30, 128)  0           stage2_unit3_relu1[0][0]         \n",
            "__________________________________________________________________________________________________\n",
            "stage2_unit3_conv1 (Conv2D)     (None, 28, 28, 128)  147456      zero_padding2d_13[0][0]          \n",
            "__________________________________________________________________________________________________\n",
            "stage2_unit3_bn2 (BatchNormaliz (None, 28, 28, 128)  512         stage2_unit3_conv1[0][0]         \n",
            "__________________________________________________________________________________________________\n",
            "stage2_unit3_relu2 (Activation) (None, 28, 28, 128)  0           stage2_unit3_bn2[0][0]           \n",
            "__________________________________________________________________________________________________\n",
            "zero_padding2d_14 (ZeroPadding2 (None, 30, 30, 128)  0           stage2_unit3_relu2[0][0]         \n",
            "__________________________________________________________________________________________________\n",
            "stage2_unit3_conv2 (Conv2D)     (None, 28, 28, 128)  147456      zero_padding2d_14[0][0]          \n",
            "__________________________________________________________________________________________________\n",
            "add_6 (Add)                     (None, 28, 28, 128)  0           stage2_unit3_conv2[0][0]         \n",
            "                                                                 add_5[0][0]                      \n",
            "__________________________________________________________________________________________________\n",
            "stage2_unit4_bn1 (BatchNormaliz (None, 28, 28, 128)  512         add_6[0][0]                      \n",
            "__________________________________________________________________________________________________\n",
            "stage2_unit4_relu1 (Activation) (None, 28, 28, 128)  0           stage2_unit4_bn1[0][0]           \n",
            "__________________________________________________________________________________________________\n",
            "zero_padding2d_15 (ZeroPadding2 (None, 30, 30, 128)  0           stage2_unit4_relu1[0][0]         \n",
            "__________________________________________________________________________________________________\n",
            "stage2_unit4_conv1 (Conv2D)     (None, 28, 28, 128)  147456      zero_padding2d_15[0][0]          \n",
            "__________________________________________________________________________________________________\n",
            "stage2_unit4_bn2 (BatchNormaliz (None, 28, 28, 128)  512         stage2_unit4_conv1[0][0]         \n",
            "__________________________________________________________________________________________________\n",
            "stage2_unit4_relu2 (Activation) (None, 28, 28, 128)  0           stage2_unit4_bn2[0][0]           \n",
            "__________________________________________________________________________________________________\n",
            "zero_padding2d_16 (ZeroPadding2 (None, 30, 30, 128)  0           stage2_unit4_relu2[0][0]         \n",
            "__________________________________________________________________________________________________\n",
            "stage2_unit4_conv2 (Conv2D)     (None, 28, 28, 128)  147456      zero_padding2d_16[0][0]          \n",
            "__________________________________________________________________________________________________\n",
            "add_7 (Add)                     (None, 28, 28, 128)  0           stage2_unit4_conv2[0][0]         \n",
            "                                                                 add_6[0][0]                      \n",
            "__________________________________________________________________________________________________\n",
            "stage3_unit1_bn1 (BatchNormaliz (None, 28, 28, 128)  512         add_7[0][0]                      \n",
            "__________________________________________________________________________________________________\n",
            "stage3_unit1_relu1 (Activation) (None, 28, 28, 128)  0           stage3_unit1_bn1[0][0]           \n",
            "__________________________________________________________________________________________________\n",
            "zero_padding2d_17 (ZeroPadding2 (None, 30, 30, 128)  0           stage3_unit1_relu1[0][0]         \n",
            "__________________________________________________________________________________________________\n",
            "stage3_unit1_conv1 (Conv2D)     (None, 14, 14, 256)  294912      zero_padding2d_17[0][0]          \n",
            "__________________________________________________________________________________________________\n",
            "stage3_unit1_bn2 (BatchNormaliz (None, 14, 14, 256)  1024        stage3_unit1_conv1[0][0]         \n",
            "__________________________________________________________________________________________________\n",
            "stage3_unit1_relu2 (Activation) (None, 14, 14, 256)  0           stage3_unit1_bn2[0][0]           \n",
            "__________________________________________________________________________________________________\n",
            "zero_padding2d_18 (ZeroPadding2 (None, 16, 16, 256)  0           stage3_unit1_relu2[0][0]         \n",
            "__________________________________________________________________________________________________\n",
            "stage3_unit1_conv2 (Conv2D)     (None, 14, 14, 256)  589824      zero_padding2d_18[0][0]          \n",
            "__________________________________________________________________________________________________\n",
            "stage3_unit1_sc (Conv2D)        (None, 14, 14, 256)  32768       stage3_unit1_relu1[0][0]         \n",
            "__________________________________________________________________________________________________\n",
            "add_8 (Add)                     (None, 14, 14, 256)  0           stage3_unit1_conv2[0][0]         \n",
            "                                                                 stage3_unit1_sc[0][0]            \n",
            "__________________________________________________________________________________________________\n",
            "stage3_unit2_bn1 (BatchNormaliz (None, 14, 14, 256)  1024        add_8[0][0]                      \n",
            "__________________________________________________________________________________________________\n",
            "stage3_unit2_relu1 (Activation) (None, 14, 14, 256)  0           stage3_unit2_bn1[0][0]           \n",
            "__________________________________________________________________________________________________\n",
            "zero_padding2d_19 (ZeroPadding2 (None, 16, 16, 256)  0           stage3_unit2_relu1[0][0]         \n",
            "__________________________________________________________________________________________________\n",
            "stage3_unit2_conv1 (Conv2D)     (None, 14, 14, 256)  589824      zero_padding2d_19[0][0]          \n",
            "__________________________________________________________________________________________________\n",
            "stage3_unit2_bn2 (BatchNormaliz (None, 14, 14, 256)  1024        stage3_unit2_conv1[0][0]         \n",
            "__________________________________________________________________________________________________\n",
            "stage3_unit2_relu2 (Activation) (None, 14, 14, 256)  0           stage3_unit2_bn2[0][0]           \n",
            "__________________________________________________________________________________________________\n",
            "zero_padding2d_20 (ZeroPadding2 (None, 16, 16, 256)  0           stage3_unit2_relu2[0][0]         \n",
            "__________________________________________________________________________________________________\n",
            "stage3_unit2_conv2 (Conv2D)     (None, 14, 14, 256)  589824      zero_padding2d_20[0][0]          \n",
            "__________________________________________________________________________________________________\n",
            "add_9 (Add)                     (None, 14, 14, 256)  0           stage3_unit2_conv2[0][0]         \n",
            "                                                                 add_8[0][0]                      \n",
            "__________________________________________________________________________________________________\n",
            "stage3_unit3_bn1 (BatchNormaliz (None, 14, 14, 256)  1024        add_9[0][0]                      \n",
            "__________________________________________________________________________________________________\n",
            "stage3_unit3_relu1 (Activation) (None, 14, 14, 256)  0           stage3_unit3_bn1[0][0]           \n",
            "__________________________________________________________________________________________________\n",
            "zero_padding2d_21 (ZeroPadding2 (None, 16, 16, 256)  0           stage3_unit3_relu1[0][0]         \n",
            "__________________________________________________________________________________________________\n",
            "stage3_unit3_conv1 (Conv2D)     (None, 14, 14, 256)  589824      zero_padding2d_21[0][0]          \n",
            "__________________________________________________________________________________________________\n",
            "stage3_unit3_bn2 (BatchNormaliz (None, 14, 14, 256)  1024        stage3_unit3_conv1[0][0]         \n",
            "__________________________________________________________________________________________________\n",
            "stage3_unit3_relu2 (Activation) (None, 14, 14, 256)  0           stage3_unit3_bn2[0][0]           \n",
            "__________________________________________________________________________________________________\n",
            "zero_padding2d_22 (ZeroPadding2 (None, 16, 16, 256)  0           stage3_unit3_relu2[0][0]         \n",
            "__________________________________________________________________________________________________\n",
            "stage3_unit3_conv2 (Conv2D)     (None, 14, 14, 256)  589824      zero_padding2d_22[0][0]          \n",
            "__________________________________________________________________________________________________\n",
            "add_10 (Add)                    (None, 14, 14, 256)  0           stage3_unit3_conv2[0][0]         \n",
            "                                                                 add_9[0][0]                      \n",
            "__________________________________________________________________________________________________\n",
            "stage3_unit4_bn1 (BatchNormaliz (None, 14, 14, 256)  1024        add_10[0][0]                     \n",
            "__________________________________________________________________________________________________\n",
            "stage3_unit4_relu1 (Activation) (None, 14, 14, 256)  0           stage3_unit4_bn1[0][0]           \n",
            "__________________________________________________________________________________________________\n",
            "zero_padding2d_23 (ZeroPadding2 (None, 16, 16, 256)  0           stage3_unit4_relu1[0][0]         \n",
            "__________________________________________________________________________________________________\n",
            "stage3_unit4_conv1 (Conv2D)     (None, 14, 14, 256)  589824      zero_padding2d_23[0][0]          \n",
            "__________________________________________________________________________________________________\n",
            "stage3_unit4_bn2 (BatchNormaliz (None, 14, 14, 256)  1024        stage3_unit4_conv1[0][0]         \n",
            "__________________________________________________________________________________________________\n",
            "stage3_unit4_relu2 (Activation) (None, 14, 14, 256)  0           stage3_unit4_bn2[0][0]           \n",
            "__________________________________________________________________________________________________\n",
            "zero_padding2d_24 (ZeroPadding2 (None, 16, 16, 256)  0           stage3_unit4_relu2[0][0]         \n",
            "__________________________________________________________________________________________________\n",
            "stage3_unit4_conv2 (Conv2D)     (None, 14, 14, 256)  589824      zero_padding2d_24[0][0]          \n",
            "__________________________________________________________________________________________________\n",
            "add_11 (Add)                    (None, 14, 14, 256)  0           stage3_unit4_conv2[0][0]         \n",
            "                                                                 add_10[0][0]                     \n",
            "__________________________________________________________________________________________________\n",
            "stage3_unit5_bn1 (BatchNormaliz (None, 14, 14, 256)  1024        add_11[0][0]                     \n",
            "__________________________________________________________________________________________________\n",
            "stage3_unit5_relu1 (Activation) (None, 14, 14, 256)  0           stage3_unit5_bn1[0][0]           \n",
            "__________________________________________________________________________________________________\n",
            "zero_padding2d_25 (ZeroPadding2 (None, 16, 16, 256)  0           stage3_unit5_relu1[0][0]         \n",
            "__________________________________________________________________________________________________\n",
            "stage3_unit5_conv1 (Conv2D)     (None, 14, 14, 256)  589824      zero_padding2d_25[0][0]          \n",
            "__________________________________________________________________________________________________\n",
            "stage3_unit5_bn2 (BatchNormaliz (None, 14, 14, 256)  1024        stage3_unit5_conv1[0][0]         \n",
            "__________________________________________________________________________________________________\n",
            "stage3_unit5_relu2 (Activation) (None, 14, 14, 256)  0           stage3_unit5_bn2[0][0]           \n",
            "__________________________________________________________________________________________________\n",
            "zero_padding2d_26 (ZeroPadding2 (None, 16, 16, 256)  0           stage3_unit5_relu2[0][0]         \n",
            "__________________________________________________________________________________________________\n",
            "stage3_unit5_conv2 (Conv2D)     (None, 14, 14, 256)  589824      zero_padding2d_26[0][0]          \n",
            "__________________________________________________________________________________________________\n",
            "add_12 (Add)                    (None, 14, 14, 256)  0           stage3_unit5_conv2[0][0]         \n",
            "                                                                 add_11[0][0]                     \n",
            "__________________________________________________________________________________________________\n",
            "stage3_unit6_bn1 (BatchNormaliz (None, 14, 14, 256)  1024        add_12[0][0]                     \n",
            "__________________________________________________________________________________________________\n",
            "stage3_unit6_relu1 (Activation) (None, 14, 14, 256)  0           stage3_unit6_bn1[0][0]           \n",
            "__________________________________________________________________________________________________\n",
            "zero_padding2d_27 (ZeroPadding2 (None, 16, 16, 256)  0           stage3_unit6_relu1[0][0]         \n",
            "__________________________________________________________________________________________________\n",
            "stage3_unit6_conv1 (Conv2D)     (None, 14, 14, 256)  589824      zero_padding2d_27[0][0]          \n",
            "__________________________________________________________________________________________________\n",
            "stage3_unit6_bn2 (BatchNormaliz (None, 14, 14, 256)  1024        stage3_unit6_conv1[0][0]         \n",
            "__________________________________________________________________________________________________\n",
            "stage3_unit6_relu2 (Activation) (None, 14, 14, 256)  0           stage3_unit6_bn2[0][0]           \n",
            "__________________________________________________________________________________________________\n",
            "zero_padding2d_28 (ZeroPadding2 (None, 16, 16, 256)  0           stage3_unit6_relu2[0][0]         \n",
            "__________________________________________________________________________________________________\n",
            "stage3_unit6_conv2 (Conv2D)     (None, 14, 14, 256)  589824      zero_padding2d_28[0][0]          \n",
            "__________________________________________________________________________________________________\n",
            "add_13 (Add)                    (None, 14, 14, 256)  0           stage3_unit6_conv2[0][0]         \n",
            "                                                                 add_12[0][0]                     \n",
            "__________________________________________________________________________________________________\n",
            "stage4_unit1_bn1 (BatchNormaliz (None, 14, 14, 256)  1024        add_13[0][0]                     \n",
            "__________________________________________________________________________________________________\n",
            "stage4_unit1_relu1 (Activation) (None, 14, 14, 256)  0           stage4_unit1_bn1[0][0]           \n",
            "__________________________________________________________________________________________________\n",
            "zero_padding2d_29 (ZeroPadding2 (None, 16, 16, 256)  0           stage4_unit1_relu1[0][0]         \n",
            "__________________________________________________________________________________________________\n",
            "stage4_unit1_conv1 (Conv2D)     (None, 7, 7, 512)    1179648     zero_padding2d_29[0][0]          \n",
            "__________________________________________________________________________________________________\n",
            "stage4_unit1_bn2 (BatchNormaliz (None, 7, 7, 512)    2048        stage4_unit1_conv1[0][0]         \n",
            "__________________________________________________________________________________________________\n",
            "stage4_unit1_relu2 (Activation) (None, 7, 7, 512)    0           stage4_unit1_bn2[0][0]           \n",
            "__________________________________________________________________________________________________\n",
            "zero_padding2d_30 (ZeroPadding2 (None, 9, 9, 512)    0           stage4_unit1_relu2[0][0]         \n",
            "__________________________________________________________________________________________________\n",
            "stage4_unit1_conv2 (Conv2D)     (None, 7, 7, 512)    2359296     zero_padding2d_30[0][0]          \n",
            "__________________________________________________________________________________________________\n",
            "stage4_unit1_sc (Conv2D)        (None, 7, 7, 512)    131072      stage4_unit1_relu1[0][0]         \n",
            "__________________________________________________________________________________________________\n",
            "add_14 (Add)                    (None, 7, 7, 512)    0           stage4_unit1_conv2[0][0]         \n",
            "                                                                 stage4_unit1_sc[0][0]            \n",
            "__________________________________________________________________________________________________\n",
            "stage4_unit2_bn1 (BatchNormaliz (None, 7, 7, 512)    2048        add_14[0][0]                     \n",
            "__________________________________________________________________________________________________\n",
            "stage4_unit2_relu1 (Activation) (None, 7, 7, 512)    0           stage4_unit2_bn1[0][0]           \n",
            "__________________________________________________________________________________________________\n",
            "zero_padding2d_31 (ZeroPadding2 (None, 9, 9, 512)    0           stage4_unit2_relu1[0][0]         \n",
            "__________________________________________________________________________________________________\n",
            "stage4_unit2_conv1 (Conv2D)     (None, 7, 7, 512)    2359296     zero_padding2d_31[0][0]          \n",
            "__________________________________________________________________________________________________\n",
            "stage4_unit2_bn2 (BatchNormaliz (None, 7, 7, 512)    2048        stage4_unit2_conv1[0][0]         \n",
            "__________________________________________________________________________________________________\n",
            "stage4_unit2_relu2 (Activation) (None, 7, 7, 512)    0           stage4_unit2_bn2[0][0]           \n",
            "__________________________________________________________________________________________________\n",
            "zero_padding2d_32 (ZeroPadding2 (None, 9, 9, 512)    0           stage4_unit2_relu2[0][0]         \n",
            "__________________________________________________________________________________________________\n",
            "stage4_unit2_conv2 (Conv2D)     (None, 7, 7, 512)    2359296     zero_padding2d_32[0][0]          \n",
            "__________________________________________________________________________________________________\n",
            "add_15 (Add)                    (None, 7, 7, 512)    0           stage4_unit2_conv2[0][0]         \n",
            "                                                                 add_14[0][0]                     \n",
            "__________________________________________________________________________________________________\n",
            "stage4_unit3_bn1 (BatchNormaliz (None, 7, 7, 512)    2048        add_15[0][0]                     \n",
            "__________________________________________________________________________________________________\n",
            "stage4_unit3_relu1 (Activation) (None, 7, 7, 512)    0           stage4_unit3_bn1[0][0]           \n",
            "__________________________________________________________________________________________________\n",
            "zero_padding2d_33 (ZeroPadding2 (None, 9, 9, 512)    0           stage4_unit3_relu1[0][0]         \n",
            "__________________________________________________________________________________________________\n",
            "stage4_unit3_conv1 (Conv2D)     (None, 7, 7, 512)    2359296     zero_padding2d_33[0][0]          \n",
            "__________________________________________________________________________________________________\n",
            "stage4_unit3_bn2 (BatchNormaliz (None, 7, 7, 512)    2048        stage4_unit3_conv1[0][0]         \n",
            "__________________________________________________________________________________________________\n",
            "stage4_unit3_relu2 (Activation) (None, 7, 7, 512)    0           stage4_unit3_bn2[0][0]           \n",
            "__________________________________________________________________________________________________\n",
            "zero_padding2d_34 (ZeroPadding2 (None, 9, 9, 512)    0           stage4_unit3_relu2[0][0]         \n",
            "__________________________________________________________________________________________________\n",
            "stage4_unit3_conv2 (Conv2D)     (None, 7, 7, 512)    2359296     zero_padding2d_34[0][0]          \n",
            "__________________________________________________________________________________________________\n",
            "add_16 (Add)                    (None, 7, 7, 512)    0           stage4_unit3_conv2[0][0]         \n",
            "                                                                 add_15[0][0]                     \n",
            "__________________________________________________________________________________________________\n",
            "bn1 (BatchNormalization)        (None, 7, 7, 512)    2048        add_16[0][0]                     \n",
            "__________________________________________________________________________________________________\n",
            "relu1 (Activation)              (None, 7, 7, 512)    0           bn1[0][0]                        \n",
            "__________________________________________________________________________________________________\n",
            "pool1 (GlobalAveragePooling2D)  (None, 512)          0           relu1[0][0]                      \n",
            "__________________________________________________________________________________________________\n",
            "fc1 (Dense)                     (None, 12)           6156        pool1[0][0]                      \n",
            "__________________________________________________________________________________________________\n",
            "Softmax (Activation)            (None, 12)           0           fc1[0][0]                        \n",
            "==================================================================================================\n",
            "Total params: 21,308,629\n",
            "Trainable params: 6,156\n",
            "Non-trainable params: 21,302,473\n",
            "__________________________________________________________________________________________________\n",
            "[INFO] compiling model...\n",
            "WARNING:tensorflow:From /usr/local/lib/python3.6/dist-packages/keras/optimizers.py:793: The name tf.train.Optimizer is deprecated. Please use tf.compat.v1.train.Optimizer instead.\n",
            "\n",
            "WARNING:tensorflow:From /usr/local/lib/python3.6/dist-packages/keras/backend/tensorflow_backend.py:3576: The name tf.log is deprecated. Please use tf.math.log instead.\n",
            "\n"
          ],
          "name": "stdout"
        }
      ]
    },
    {
      "cell_type": "code",
      "metadata": {
        "id": "1jYwnCLl05F3",
        "colab_type": "code",
        "colab": {}
      },
      "source": [
        "# entrainer la couche FC pour 20 epoch (rappel: toutes les autres couches sont gelees donc leurs poids resteront\n",
        "# inchangés\n",
        "print(\"[INFO] training head...\")\n",
        "H = model_ResNet34_fine_tuned.fit_generator(train_iterator, steps_per_epoch=totalTrain // BATCH_SIZE,\n",
        "                        validation_data=test_iterator,\n",
        "                        validation_steps=totalTest // BATCH_SIZE,\n",
        "                        epochs=100)"
      ],
      "execution_count": 0,
      "outputs": []
    },
    {
      "cell_type": "code",
      "metadata": {
        "id": "Mqjw_H28niO-",
        "colab_type": "code",
        "outputId": "73b1faa0-6022-4aae-a71b-3c0e4fdb8855",
        "colab": {
          "base_uri": "https://localhost:8080/",
          "height": 718
        }
      },
      "source": [
        "# Evaluer le modele juste apres avoir entrainer \n",
        "print(\"[INFO] evaluating after training network head...\")\n",
        "test_iterator.reset()\n",
        "predIdxs = model_ResNet34_fine_tuned.predict_generator(test_iterator, steps=(totalTest // BATCH_SIZE) + 1)\n",
        "predIdxs = np.argmax(predIdxs, axis=1)\n",
        "# afficher les performances de classification\n",
        "print(classification_report(test_iterator.classes, predIdxs, target_names=test_iterator.class_indices.keys()))\n",
        "plot_training(H, 100, TRAINING_HISTORY_PLOT_NEW_FC_FINE_TUNING)\n",
        "\n",
        "train_iterator.reset()\n",
        "test_iterator.reset()"
      ],
      "execution_count": 0,
      "outputs": [
        {
          "output_type": "stream",
          "text": [
            "[INFO] evaluating after training network head...\n"
          ],
          "name": "stdout"
        },
        {
          "output_type": "stream",
          "text": [
            "/usr/local/lib/python3.6/dist-packages/sklearn/metrics/_classification.py:1272: UndefinedMetricWarning: Precision and F-score are ill-defined and being set to 0.0 in labels with no predicted samples. Use `zero_division` parameter to control this behavior.\n",
            "  _warn_prf(average, modifier, msg_start, len(result))\n"
          ],
          "name": "stderr"
        },
        {
          "output_type": "stream",
          "text": [
            "                precision    recall  f1-score   support\n",
            "\n",
            "         alder       0.00      0.00      0.00        17\n",
            "         beech       0.00      0.00      0.00        15\n",
            "         birch       0.00      0.00      0.00        18\n",
            "      chestnut       0.00      0.00      0.00        16\n",
            " ginkgo-biloba       0.00      0.00      0.00        15\n",
            "      hornbeam       0.00      0.00      0.00        15\n",
            "horse-chestnut       0.00      0.00      0.00        16\n",
            "        linden       0.00      0.00      0.00        15\n",
            "           oak       0.00      0.00      0.00        15\n",
            "oriental-plane       0.00      0.00      0.00        16\n",
            "          pine       0.00      0.00      0.00        15\n",
            "        spruce       0.11      1.00      0.20        22\n",
            "\n",
            "      accuracy                           0.11       195\n",
            "     macro avg       0.01      0.08      0.02       195\n",
            "  weighted avg       0.01      0.11      0.02       195\n",
            "\n"
          ],
          "name": "stdout"
        },
        {
          "output_type": "display_data",
          "data": {
            "image/png": "[encoded data removed]",
            "text/plain": [
              "<Figure size 432x288 with 1 Axes>"
            ]
          },
          "metadata": {
            "tags": []
          }
        },
        {
          "output_type": "display_data",
          "data": {
            "text/plain": [
              "<Figure size 432x288 with 0 Axes>"
            ]
          },
          "metadata": {
            "tags": []
          }
        }
      ]
    },
    {
      "cell_type": "markdown",
      "metadata": {
        "id": "rR3l74OSsyzZ",
        "colab_type": "text"
      },
      "source": [
        "**Saving the optimal model**"
      ]
    },
    {
      "cell_type": "code",
      "metadata": {
        "id": "6escBWSmsxuo",
        "colab_type": "code",
        "colab": {}
      },
      "source": [
        "model_ResNet34_fine_tuned.save(MODEL_PATH_FINE_TUNING)"
      ],
      "execution_count": 0,
      "outputs": []
    },
    {
      "cell_type": "markdown",
      "metadata": {
        "id": "9sYseanDKOdO",
        "colab_type": "text"
      },
      "source": [
        "**Faire une évaluation du fine-tuning concernant :**"
      ]
    },
    {
      "cell_type": "code",
      "metadata": {
        "id": "JRtalsO1_Mg_",
        "colab_type": "code",
        "colab": {}
      },
      "source": [
        "\n",
        "le = None\n",
        "classes = 12\n",
        "# parcourir les repo train et test\n",
        "# charger les images\n",
        "print(\"[INFO] processing TRAIN split...\")\n",
        "imagePaths = list(paths.list_images(trainPath))\n",
        "# extraire les labels des classes à partir du chemin(nom des dossiers)\n",
        "random.shuffle(imagePaths)\n",
        "labels = [p.split(os.path.sep)[-2] for p in imagePaths]\n",
        "# creer un objet LabelEncoder\n",
        "# qui va encoder les label avec des valeur entre 0 and nbr_class-1.\n",
        "if le is None:\n",
        "  le = LabelEncoder()\n",
        "  le.fit(labels)\n",
        "le.classes_\n",
        "# parcourir les images \n",
        "train_images = []\n",
        "for i in range(len(imagePaths)):\n",
        "  print(\"[INFO] processing image {}/{}\".format(i+1 , len(imagePaths)))\n",
        "  # charger l'image en taille 224x224 pixels\n",
        "  image = load_img(imagePaths[i], target_size=(224, 224))\n",
        "  image = img_to_array(image)\n",
        "  # image => tensor\n",
        "  # preprocess the image by (1) expanding the dimensions and\n",
        "  # (2) subtracting the mean RGB pixel intensity from the\n",
        "  # ImageNet dataset\n",
        "  image = np.expand_dims(image, axis=0)\n",
        "  # normalisation\n",
        "  image = imagenet_utils.preprocess_input(image)\n",
        "  train_images.append(image)\n",
        "x_train = (np.vstack(train_images))\n",
        "y_train = (le.transform(labels))    \n",
        "y_train = np_utils.to_categorical(y_train,classes)"
      ],
      "execution_count": 0,
      "outputs": []
    },
    {
      "cell_type": "markdown",
      "metadata": {
        "id": "T5ubjOmjiufE",
        "colab_type": "text"
      },
      "source": [
        "**Dégradation programmée du taux d’apprentissage**\n",
        "\n"
      ]
    },
    {
      "cell_type": "code",
      "metadata": {
        "id": "DgchKYNzipiW",
        "colab_type": "code",
        "colab": {}
      },
      "source": [
        "#Dégradation standard \n",
        "def standard_decay(curr_epoch):\n",
        "  init_eta = 0.01\n",
        "  decay = 0.00004\n",
        "  nb_batches = int( nbrTrain / batch_size)\n",
        "  eta = init_eta / (1+decay*(nb_batches*curr_epoch))\n",
        "  return eta\n",
        "#Dégradation par pas\n",
        "def step_decay(curr_epoch):\n",
        "  init_eta = 0.01\n",
        "  drop_factor = 0.25\n",
        "  drop_every = 10\n",
        "  decay = np.floor((1 + curr_epoch) / drop_every)\n",
        "  eta = init_eta * drop_factor ** decay\n",
        "  return eta\n",
        "#Dégradation polynômiale\n",
        "def poly_decay(curr_epoch):\n",
        "  total_epochs = 100\n",
        "  init_eta = 0.01\n",
        "  order = 1.0\n",
        "  decay = (1 - (curr_epoch / float(total_epochs))) ** order\n",
        "  eta = init_eta * decay\n",
        "  return eta"
      ],
      "execution_count": 0,
      "outputs": []
    },
    {
      "cell_type": "code",
      "metadata": {
        "id": "PHRTwZIhi0ij",
        "colab_type": "code",
        "colab": {}
      },
      "source": [
        "# learning schedule callback\n",
        "lrate1 = LearningRateScheduler(step_decay)\n",
        "lrate2 = LearningRateScheduler(poly_decay)\n",
        "lrate3 = LearningRateScheduler(standard_decay)\n",
        "callbacks_list = [[lrate1], [lrate2], [lrate3]]"
      ],
      "execution_count": 0,
      "outputs": []
    },
    {
      "cell_type": "markdown",
      "metadata": {
        "id": "0Q0mDj0EKIf4",
        "colab_type": "text"
      },
      "source": [
        "**GridSearch Evaluation finetuned Model only Fully Connected layer is trainable!**\n",
        "\n"
      ]
    },
    {
      "cell_type": "code",
      "metadata": {
        "id": "MkaCmndjDzL1",
        "colab_type": "code",
        "colab": {}
      },
      "source": [
        "# Fonction pour creer le modele Keras\n",
        "def define_model_fine_tuned():\n",
        "  model_ResNet34_FT = define_model_ResNet34()\n",
        "  print(\"[INFO] compiling model...\")\n",
        "  opt = SGD(lr=1e-4, momentum=0.9)\n",
        "  model_ResNet34_fine_tuned.compile(loss='categorical_crossentropy', optimizer=opt, metrics=[\"accuracy\"])\n",
        "  return model_ResNet34_fine_tuned \n",
        "\n",
        "model_ResNet34_fine_tuned = KerasClassifier(build_fn=define_model_fine_tuned, verbose=1) \n",
        "# parametres de la grille de recherche\n",
        "grid_param = {'batch_size' : [16, 32],\n",
        "              'epochs' : [50, 75, 100,150]}\n",
        "grid_search = GridSearchCV(estimator=model_ResNet34_fine_tuned, param_grid=grid_param, cv=3)\n",
        "grid_result = grid_search.fit(x_train, y_train)\n",
        "# afficher les resultats\n",
        "print(\"Best: %f using %s\" % (grid_result.best_score_, grid_result.best_params_))\n",
        "# afficher les resultats detailles\n",
        "means = grid_result.cv_results_['mean_test_score']\n",
        "stds = grid_result.cv_results_['std_test_score']\n",
        "params = grid_result.cv_results_['params']\n",
        "for mean, stdev, param in zip(means, stds, params):\n",
        "  print(\"mean (+/- std) = %f (%f) with: %r\" % (mean, stdev, param))"
      ],
      "execution_count": 0,
      "outputs": []
    },
    {
      "cell_type": "markdown",
      "metadata": {
        "id": "tL1vfn-r5lDq",
        "colab_type": "text"
      },
      "source": [
        "**Geler le premièr bloc et faire un fine-tuning sur les couches supérieures**"
      ]
    },
    {
      "cell_type": "code",
      "metadata": {
        "id": "53FKgAZb-Wvb",
        "colab_type": "code",
        "outputId": "6da0288c-e838-41d0-c44b-8d15e70b8d23",
        "colab": {
          "base_uri": "https://localhost:8080/",
          "height": 34
        }
      },
      "source": [
        "print(\"[INFO] loading model...\")\n",
        "model_ResNet34_fine_tuned = load_model('/content/drive/My Drive/Resnet34 Models/NasNet Models Model FINE TUNING.model')"
      ],
      "execution_count": 0,
      "outputs": [
        {
          "output_type": "stream",
          "text": [
            "[INFO] loading model...\n"
          ],
          "name": "stdout"
        }
      ]
    },
    {
      "cell_type": "code",
      "metadata": {
        "colab_type": "code",
        "id": "B-8WwfGX7sqM",
        "colab": {}
      },
      "source": [
        "# -----------------------------------------------------------------\n",
        "# a ce stade la FC est entrainée sur la nouvelle base.\n",
        "# on va re-entrianer tout le réseau, càd toutes les couches\n",
        "# 2*conv; 2*conv; 3*conv; 3*conv; 3*conv:\n",
        "model_ResNet34_fine_tuned_without_first_bloc = model_ResNet34_fine_tuned\n",
        "for layer in model_ResNet34_fine_tuned_without_first_bloc.layers[35:]:\n",
        "  layer.trainable = True\n",
        "\n",
        "# visualiser les couches à entrainer\n",
        "for layer in model_ResNet34_fine_tuned_without_first_bloc.layers:\n",
        "    print(\"{}: {}\".format(layer, layer.trainable))\n",
        "\n",
        "# apres ces changements, on doit recompiler le modele pour qu'il les prennent en considération\n",
        "# on utilise un optimizer SGD avec un taux d'apprentissage tres faible au debut\n",
        "print(\"[INFO] re-compiling model...\")\n",
        "opt = SGD(lr=1e-4, momentum=0.9)\n",
        "model_ResNet34_fine_tuned_without_first_bloc.compile(loss=\"categorical_crossentropy\", optimizer=opt, metrics=[\"accuracy\"])"
      ],
      "execution_count": 0,
      "outputs": []
    },
    {
      "cell_type": "code",
      "metadata": {
        "id": "F-Xoy2lTC6LU",
        "colab_type": "code",
        "outputId": "d9588c2d-e745-43a9-9ecf-ecb0800a0b98",
        "colab": {
          "base_uri": "https://localhost:8080/",
          "height": 1000
        }
      },
      "source": [
        "# entrainer la couche FC pour 50 epoch (rappel: toutes les autres couches sont gelees donc leurs poids resteront\n",
        "# inchangés\n",
        "print(\"[INFO] training head...\")\n",
        "H1 = model_ResNet34_fine_tuned_without_first_bloc.fit_generator(train_iterator, steps_per_epoch=totalTrain // BATCH_SIZE,\n",
        "                        validation_data=test_iterator,\n",
        "                        validation_steps=totalTest // BATCH_SIZE,\n",
        "                        epochs=75)"
      ],
      "execution_count": 0,
      "outputs": [
        {
          "output_type": "stream",
          "text": [
            "[INFO] training head...\n",
            "Epoch 1/75\n",
            "12/12 [==============================] - 6s 496ms/step - loss: 0.1570 - acc: 0.9554 - val_loss: 3.7358 - val_acc: 0.0990\n",
            "Epoch 2/75\n",
            "12/12 [==============================] - 1s 119ms/step - loss: 0.0526 - acc: 0.9895 - val_loss: 4.0108 - val_acc: 0.0335\n",
            "Epoch 3/75\n",
            "12/12 [==============================] - 1s 114ms/step - loss: 0.1298 - acc: 0.9686 - val_loss: 3.6970 - val_acc: 0.1061\n",
            "Epoch 4/75\n",
            "12/12 [==============================] - 1s 115ms/step - loss: 0.0610 - acc: 0.9844 - val_loss: 3.7958 - val_acc: 0.1229\n",
            "Epoch 5/75\n",
            "12/12 [==============================] - 1s 114ms/step - loss: 0.1739 - acc: 0.9312 - val_loss: 3.8202 - val_acc: 0.1229\n",
            "Epoch 6/75\n",
            "12/12 [==============================] - 1s 109ms/step - loss: 0.0871 - acc: 0.9815 - val_loss: 3.9581 - val_acc: 0.1229\n",
            "Epoch 7/75\n",
            "12/12 [==============================] - 1s 118ms/step - loss: 0.0280 - acc: 1.0000 - val_loss: 3.5680 - val_acc: 0.1229\n",
            "Epoch 8/75\n",
            "12/12 [==============================] - 1s 110ms/step - loss: 0.0505 - acc: 0.9948 - val_loss: 3.8183 - val_acc: 0.1229\n",
            "Epoch 9/75\n",
            "12/12 [==============================] - 1s 112ms/step - loss: 0.0667 - acc: 0.9868 - val_loss: 3.6822 - val_acc: 0.1229\n",
            "Epoch 10/75\n",
            "12/12 [==============================] - 1s 109ms/step - loss: 0.0616 - acc: 0.9948 - val_loss: 3.7874 - val_acc: 0.1229\n",
            "Epoch 11/75\n",
            "12/12 [==============================] - 1s 106ms/step - loss: 0.0253 - acc: 1.0000 - val_loss: 3.8363 - val_acc: 0.1229\n",
            "Epoch 12/75\n",
            "12/12 [==============================] - 1s 103ms/step - loss: 0.0320 - acc: 0.9948 - val_loss: 3.9719 - val_acc: 0.1229\n",
            "Epoch 13/75\n",
            "12/12 [==============================] - 1s 97ms/step - loss: 0.0430 - acc: 0.9948 - val_loss: 3.7900 - val_acc: 0.1229\n",
            "Epoch 14/75\n",
            "12/12 [==============================] - 1s 101ms/step - loss: 0.0283 - acc: 0.9948 - val_loss: 3.9512 - val_acc: 0.0990\n",
            "Epoch 15/75\n",
            "12/12 [==============================] - 1s 120ms/step - loss: 0.1243 - acc: 0.9578 - val_loss: 4.1887 - val_acc: 0.0335\n",
            "Epoch 16/75\n",
            "12/12 [==============================] - 1s 115ms/step - loss: 0.0542 - acc: 0.9843 - val_loss: 3.8496 - val_acc: 0.1061\n",
            "Epoch 17/75\n",
            "12/12 [==============================] - 1s 114ms/step - loss: 0.0486 - acc: 1.0000 - val_loss: 3.9115 - val_acc: 0.1229\n",
            "Epoch 18/75\n",
            "12/12 [==============================] - 1s 107ms/step - loss: 0.0216 - acc: 1.0000 - val_loss: 3.9031 - val_acc: 0.1229\n",
            "Epoch 19/75\n",
            "12/12 [==============================] - 1s 111ms/step - loss: 0.0389 - acc: 0.9947 - val_loss: 4.0744 - val_acc: 0.1229\n",
            "Epoch 20/75\n",
            "12/12 [==============================] - 1s 108ms/step - loss: 0.0569 - acc: 1.0000 - val_loss: 3.6165 - val_acc: 0.1229\n",
            "Epoch 21/75\n",
            "12/12 [==============================] - 1s 111ms/step - loss: 0.0206 - acc: 1.0000 - val_loss: 3.8622 - val_acc: 0.1229\n",
            "Epoch 22/75\n",
            "12/12 [==============================] - 1s 108ms/step - loss: 0.0259 - acc: 0.9948 - val_loss: 3.7493 - val_acc: 0.1229\n",
            "Epoch 23/75\n",
            "12/12 [==============================] - 1s 111ms/step - loss: 0.0258 - acc: 1.0000 - val_loss: 3.8129 - val_acc: 0.1229\n",
            "Epoch 24/75\n",
            "12/12 [==============================] - 1s 100ms/step - loss: 0.1072 - acc: 0.9603 - val_loss: 3.8476 - val_acc: 0.1229\n",
            "Epoch 25/75\n",
            "12/12 [==============================] - 1s 101ms/step - loss: 0.0413 - acc: 0.9868 - val_loss: 3.9825 - val_acc: 0.1229\n",
            "Epoch 26/75\n",
            "12/12 [==============================] - 1s 100ms/step - loss: 0.0311 - acc: 1.0000 - val_loss: 3.7622 - val_acc: 0.1229\n",
            "Epoch 27/75\n",
            "12/12 [==============================] - 1s 96ms/step - loss: 0.0429 - acc: 0.9868 - val_loss: 3.9093 - val_acc: 0.0990\n",
            "Epoch 28/75\n",
            "12/12 [==============================] - 1s 111ms/step - loss: 0.0372 - acc: 0.9868 - val_loss: 4.1570 - val_acc: 0.0335\n",
            "Epoch 29/75\n",
            "12/12 [==============================] - 1s 117ms/step - loss: 0.0262 - acc: 1.0000 - val_loss: 3.8129 - val_acc: 0.1061\n",
            "Epoch 30/75\n",
            "12/12 [==============================] - 1s 112ms/step - loss: 0.0592 - acc: 0.9868 - val_loss: 3.8937 - val_acc: 0.1229\n",
            "Epoch 31/75\n",
            "12/12 [==============================] - 1s 105ms/step - loss: 0.0184 - acc: 1.0000 - val_loss: 3.8856 - val_acc: 0.1229\n",
            "Epoch 32/75\n",
            "12/12 [==============================] - 1s 111ms/step - loss: 0.0198 - acc: 1.0000 - val_loss: 4.0691 - val_acc: 0.1229\n",
            "Epoch 33/75\n",
            "12/12 [==============================] - 1s 109ms/step - loss: 0.0277 - acc: 0.9948 - val_loss: 3.6053 - val_acc: 0.1229\n",
            "Epoch 34/75\n",
            "12/12 [==============================] - 1s 109ms/step - loss: 0.0149 - acc: 1.0000 - val_loss: 3.8564 - val_acc: 0.1229\n",
            "Epoch 35/75\n",
            "12/12 [==============================] - 1s 111ms/step - loss: 0.0359 - acc: 1.0000 - val_loss: 3.7171 - val_acc: 0.1229\n",
            "Epoch 36/75\n",
            "12/12 [==============================] - 1s 109ms/step - loss: 0.0203 - acc: 1.0000 - val_loss: 3.7866 - val_acc: 0.1229\n",
            "Epoch 37/75\n",
            "12/12 [==============================] - 1s 107ms/step - loss: 0.0276 - acc: 1.0000 - val_loss: 3.8334 - val_acc: 0.1229\n",
            "Epoch 38/75\n",
            "12/12 [==============================] - 1s 101ms/step - loss: 0.0326 - acc: 1.0000 - val_loss: 3.9780 - val_acc: 0.1229\n",
            "Epoch 39/75\n",
            "12/12 [==============================] - 1s 97ms/step - loss: 0.0145 - acc: 1.0000 - val_loss: 3.7389 - val_acc: 0.1229\n",
            "Epoch 40/75\n",
            "12/12 [==============================] - 1s 104ms/step - loss: 0.0208 - acc: 1.0000 - val_loss: 3.8785 - val_acc: 0.0990\n",
            "Epoch 41/75\n",
            "12/12 [==============================] - 1s 115ms/step - loss: 0.0213 - acc: 1.0000 - val_loss: 4.1023 - val_acc: 0.0335\n",
            "Epoch 42/75\n",
            "12/12 [==============================] - 1s 109ms/step - loss: 0.0140 - acc: 1.0000 - val_loss: 3.7648 - val_acc: 0.1061\n",
            "Epoch 43/75\n",
            "12/12 [==============================] - 1s 117ms/step - loss: 0.0187 - acc: 1.0000 - val_loss: 3.8372 - val_acc: 0.1229\n",
            "Epoch 44/75\n",
            "12/12 [==============================] - 1s 111ms/step - loss: 0.0156 - acc: 1.0000 - val_loss: 3.8621 - val_acc: 0.1229\n",
            "Epoch 45/75\n",
            "12/12 [==============================] - 1s 112ms/step - loss: 0.0128 - acc: 1.0000 - val_loss: 4.0033 - val_acc: 0.1229\n",
            "Epoch 46/75\n",
            "12/12 [==============================] - 1s 110ms/step - loss: 0.0362 - acc: 0.9867 - val_loss: 3.5524 - val_acc: 0.1229\n",
            "Epoch 47/75\n",
            "12/12 [==============================] - 1s 110ms/step - loss: 0.0246 - acc: 1.0000 - val_loss: 3.7977 - val_acc: 0.1229\n",
            "Epoch 48/75\n",
            "12/12 [==============================] - 1s 109ms/step - loss: 0.0137 - acc: 1.0000 - val_loss: 3.6673 - val_acc: 0.1229\n",
            "Epoch 49/75\n",
            "12/12 [==============================] - 1s 110ms/step - loss: 0.0444 - acc: 0.9868 - val_loss: 3.7506 - val_acc: 0.1229\n",
            "Epoch 50/75\n",
            "12/12 [==============================] - 1s 102ms/step - loss: 0.0373 - acc: 0.9948 - val_loss: 3.7887 - val_acc: 0.1229\n",
            "Epoch 51/75\n",
            "12/12 [==============================] - 1s 103ms/step - loss: 0.0106 - acc: 1.0000 - val_loss: 3.9231 - val_acc: 0.1229\n",
            "Epoch 52/75\n",
            "12/12 [==============================] - 1s 98ms/step - loss: 0.0128 - acc: 1.0000 - val_loss: 3.6759 - val_acc: 0.1229\n",
            "Epoch 53/75\n",
            "12/12 [==============================] - 1s 101ms/step - loss: 0.0189 - acc: 0.9948 - val_loss: 3.8372 - val_acc: 0.0990\n",
            "Epoch 54/75\n",
            "12/12 [==============================] - 1s 110ms/step - loss: 0.0177 - acc: 1.0000 - val_loss: 4.0645 - val_acc: 0.0335\n",
            "Epoch 55/75\n",
            "12/12 [==============================] - 1s 110ms/step - loss: 0.0111 - acc: 1.0000 - val_loss: 3.7341 - val_acc: 0.1061\n",
            "Epoch 56/75\n",
            "12/12 [==============================] - 1s 115ms/step - loss: 0.0540 - acc: 0.9868 - val_loss: 3.8097 - val_acc: 0.1229\n",
            "Epoch 57/75\n",
            "12/12 [==============================] - 1s 113ms/step - loss: 0.0217 - acc: 1.0000 - val_loss: 3.7921 - val_acc: 0.1229\n",
            "Epoch 58/75\n",
            "12/12 [==============================] - 1s 106ms/step - loss: 0.0222 - acc: 1.0000 - val_loss: 3.9682 - val_acc: 0.1229\n",
            "Epoch 59/75\n",
            "12/12 [==============================] - 1s 111ms/step - loss: 0.0078 - acc: 1.0000 - val_loss: 3.5411 - val_acc: 0.1229\n",
            "Epoch 60/75\n",
            "12/12 [==============================] - 1s 111ms/step - loss: 0.0573 - acc: 0.9815 - val_loss: 3.7759 - val_acc: 0.1229\n",
            "Epoch 61/75\n",
            "12/12 [==============================] - 1s 111ms/step - loss: 0.0330 - acc: 0.9868 - val_loss: 3.6386 - val_acc: 0.1229\n",
            "Epoch 62/75\n",
            "12/12 [==============================] - 1s 109ms/step - loss: 0.0174 - acc: 1.0000 - val_loss: 3.7112 - val_acc: 0.1229\n",
            "Epoch 63/75\n",
            "12/12 [==============================] - 1s 108ms/step - loss: 0.0089 - acc: 1.0000 - val_loss: 3.7385 - val_acc: 0.1229\n",
            "Epoch 64/75\n",
            "12/12 [==============================] - 1s 100ms/step - loss: 0.0170 - acc: 1.0000 - val_loss: 3.8843 - val_acc: 0.1229\n",
            "Epoch 65/75\n",
            "12/12 [==============================] - 1s 99ms/step - loss: 0.0195 - acc: 1.0000 - val_loss: 3.6386 - val_acc: 0.1229\n",
            "Epoch 66/75\n",
            "12/12 [==============================] - 1s 96ms/step - loss: 0.0103 - acc: 1.0000 - val_loss: 3.7974 - val_acc: 0.0990\n",
            "Epoch 67/75\n",
            "12/12 [==============================] - 1s 114ms/step - loss: 0.0201 - acc: 0.9948 - val_loss: 4.0169 - val_acc: 0.0335\n",
            "Epoch 68/75\n",
            "12/12 [==============================] - 1s 112ms/step - loss: 0.0070 - acc: 1.0000 - val_loss: 3.6805 - val_acc: 0.1061\n",
            "Epoch 69/75\n",
            "12/12 [==============================] - 1s 113ms/step - loss: 0.0100 - acc: 1.0000 - val_loss: 3.7518 - val_acc: 0.1229\n",
            "Epoch 70/75\n",
            "12/12 [==============================] - 1s 113ms/step - loss: 0.0090 - acc: 1.0000 - val_loss: 3.7636 - val_acc: 0.1229\n",
            "Epoch 71/75\n",
            "12/12 [==============================] - 1s 108ms/step - loss: 0.0224 - acc: 1.0000 - val_loss: 3.9319 - val_acc: 0.1229\n",
            "Epoch 72/75\n",
            "12/12 [==============================] - 1s 114ms/step - loss: 0.0133 - acc: 1.0000 - val_loss: 3.4845 - val_acc: 0.1229\n",
            "Epoch 73/75\n",
            "12/12 [==============================] - 1s 113ms/step - loss: 0.1205 - acc: 0.9735 - val_loss: 3.7369 - val_acc: 0.1229\n",
            "Epoch 74/75\n",
            "12/12 [==============================] - 1s 110ms/step - loss: 0.0149 - acc: 1.0000 - val_loss: 3.5809 - val_acc: 0.1229\n",
            "Epoch 75/75\n",
            "12/12 [==============================] - 1s 107ms/step - loss: 0.0145 - acc: 1.0000 - val_loss: 3.6945 - val_acc: 0.1229\n"
          ],
          "name": "stdout"
        }
      ]
    },
    {
      "cell_type": "code",
      "metadata": {
        "id": "TVJ7DQekbH_1",
        "colab_type": "code",
        "outputId": "144f7f2f-8954-4124-f7a0-44b610121267",
        "colab": {
          "base_uri": "https://localhost:8080/",
          "height": 718
        }
      },
      "source": [
        "# Evaluer le modele juste apres avoir entrainer \n",
        "print(\"[INFO] evaluating after training network head...\")\n",
        "test_iterator.reset()\n",
        "predIdxs = model_ResNet34_fine_tuned_without_first_bloc.predict_generator(test_iterator, steps=(totalTest // BATCH_SIZE) + 1)\n",
        "predIdxs = np.argmax(predIdxs, axis=1)\n",
        "# afficher les performances de classification\n",
        "print(classification_report(test_iterator.classes, predIdxs, target_names=test_iterator.class_indices.keys()))\n",
        "plot_training(H1, 75, TRAINING_HISTORY_PLOT_PATH_WITHOUT_FIRST_BLOC)\n",
        "\n",
        "train_iterator.reset()\n",
        "test_iterator.reset()"
      ],
      "execution_count": 0,
      "outputs": [
        {
          "output_type": "stream",
          "text": [
            "[INFO] evaluating after training network head...\n",
            "                precision    recall  f1-score   support\n",
            "\n",
            "         alder       0.00      0.00      0.00        17\n",
            "         beech       0.00      0.00      0.00        15\n",
            "         birch       0.00      0.00      0.00        18\n",
            "      chestnut       0.00      0.00      0.00        16\n",
            " ginkgo-biloba       0.00      0.00      0.00        15\n",
            "      hornbeam       0.00      0.00      0.00        15\n",
            "horse-chestnut       0.00      0.00      0.00        16\n",
            "        linden       0.00      0.00      0.00        15\n",
            "           oak       0.00      0.00      0.00        15\n",
            "oriental-plane       0.00      0.00      0.00        16\n",
            "          pine       0.00      0.00      0.00        15\n",
            "        spruce       0.11      1.00      0.20        22\n",
            "\n",
            "      accuracy                           0.11       195\n",
            "     macro avg       0.01      0.08      0.02       195\n",
            "  weighted avg       0.01      0.11      0.02       195\n",
            "\n"
          ],
          "name": "stdout"
        },
        {
          "output_type": "stream",
          "text": [
            "/usr/local/lib/python3.6/dist-packages/sklearn/metrics/_classification.py:1272: UndefinedMetricWarning: Precision and F-score are ill-defined and being set to 0.0 in labels with no predicted samples. Use `zero_division` parameter to control this behavior.\n",
            "  _warn_prf(average, modifier, msg_start, len(result))\n"
          ],
          "name": "stderr"
        },
        {
          "output_type": "display_data",
          "data": {
            "image/png": "[encoded data removed]",
            "text/plain": [
              "<Figure size 432x288 with 1 Axes>"
            ]
          },
          "metadata": {
            "tags": []
          }
        },
        {
          "output_type": "display_data",
          "data": {
            "text/plain": [
              "<Figure size 432x288 with 0 Axes>"
            ]
          },
          "metadata": {
            "tags": []
          }
        }
      ]
    },
    {
      "cell_type": "code",
      "metadata": {
        "id": "jXOLysAiNVnZ",
        "colab_type": "code",
        "colab": {}
      },
      "source": [
        "model_ResNet34_fine_tuned_without_first_bloc.save(MODEL_PATH_WITHOUT_FIRST_BLOC)"
      ],
      "execution_count": 0,
      "outputs": []
    },
    {
      "cell_type": "markdown",
      "metadata": {
        "id": "9W9kZUxFUDVn",
        "colab_type": "text"
      },
      "source": [
        "**GridSearch Evaluation finetuned Model without the first bloc and all the rest of layers are trainable!**"
      ]
    },
    {
      "cell_type": "code",
      "metadata": {
        "id": "pRQkO5T_UB8D",
        "colab_type": "code",
        "colab": {}
      },
      "source": [
        "# Fonction pour creer le modele Keras\n",
        "def define_model_ResNet34_fine_tuned_without_first_bloc():\n",
        "  classes = 12\n",
        "  model_ResNet34_fine_tuned_without_first_bloc = model_ResNet34_fine_tuned\n",
        "  for layer in model_ResNet34_fine_tuned_without_first_bloc.layers[35:]:\n",
        "    layer.trainable = True\n",
        "  print(\"[INFO] compiling model...\")\n",
        "  opt = SGD(lr=1e-4, momentum=0.9)\n",
        "  model_ResNet34_fine_tuned_without_first_bloc.compile(loss='categorical_crossentropy', optimizer=opt, metrics=[\"accuracy\"])\n",
        "  return model_ResNet34_fine_tuned_without_first_bloc \n",
        "\n",
        "model = KerasClassifier(build_fn = define_model_ResNet34_fine_tuned_without_first_bloc, verbose=1) \n",
        "# parametres de la grille de recherche\n",
        "grid_param = {'batch_size' : [8, 16],\n",
        "              'epochs' : [75, 100, 150]}\n",
        "grid_search = GridSearchCV(estimator=model, param_grid=grid_param, cv=3)\n",
        "grid_result = grid_search.fit(x_train, y_train)\n",
        "# afficher les resultats\n",
        "print(\"Best: %f using %s\" % (grid_result.best_score_, grid_result.best_params_))\n",
        "# afficher les resultats detailles\n",
        "means = grid_result.cv_results_['mean_test_score']\n",
        "stds = grid_result.cv_results_['std_test_score']\n",
        "params = grid_result.cv_results_['params']\n",
        "for mean, stdev, param in zip(means, stds, params):\n",
        "  print(\"mean (+/- std) = %f (%f) with: %r\" % (mean, stdev, param))"
      ],
      "execution_count": 0,
      "outputs": []
    },
    {
      "cell_type": "markdown",
      "metadata": {
        "id": "v4tWJLi55pQj",
        "colab_type": "text"
      },
      "source": [
        "**Geler les deux premièrs blocs et faire un fine-tuning sur les couches supérieures**"
      ]
    },
    {
      "cell_type": "code",
      "metadata": {
        "id": "3kV1Bf_gSZtC",
        "colab_type": "code",
        "colab": {}
      },
      "source": [
        "print(\"[INFO] loading model...\")\n",
        "model_ResNet34_fine_tuned_without_two_first_bloc = load_model('/content/drive/My Drive/Resnet34 Models/Resnet34 Models Model WITHOUT FIRST BLOC.model')"
      ],
      "execution_count": 0,
      "outputs": []
    },
    {
      "cell_type": "code",
      "metadata": {
        "id": "t-BqJwXeEYFF",
        "colab_type": "code",
        "colab": {}
      },
      "source": [
        "# -----------------------------------------------------------------\n",
        "# a ce stade la FC est entrainée sur la nouvelle base.\n",
        "# on va re-entrianer tout le réseau, càd toutes les couches\n",
        "# 2*conv; 2*conv; 3*conv; 3*conv; 3*conv:\n",
        "model_ResNet34_fine_tuned_without_two_first_bloc = model_ResNet34_fine_tuned_without_two_first_bloc\n",
        "# Geler les deux premiers bloc\n",
        "for layer in model_ResNet34_fine_tuned_without_two_first_bloc.layers[73:]:\n",
        "  layer.trainable = True\n",
        "\n",
        "# visualiser les couches à entrainer\n",
        "for layer in model_ResNet34_fine_tuned_without_two_first_bloc.layers:\n",
        "    print(\"{}: {}\".format(layer, layer.trainable))\n",
        "\n",
        "# apres ces changements, on doit recompiler le modele pour qu'il les prennent en considération\n",
        "# on utilise un optimizer SGD avec un taux d'apprentissage tres faible au debut\n",
        "print(\"[INFO] re-compiling model...\")\n",
        "opt = SGD(lr=1e-4, momentum=0.9)\n",
        "model_ResNet34_fine_tuned_without_two_first_bloc.compile(loss=\"categorical_crossentropy\", optimizer=opt,\n",
        "              metrics=[\"accuracy\"])"
      ],
      "execution_count": 0,
      "outputs": []
    },
    {
      "cell_type": "code",
      "metadata": {
        "id": "c4Dfh1Zp8JnD",
        "colab_type": "code",
        "colab": {}
      },
      "source": [
        "# entrainer la couche FC pour 50 epoch (rappel: toutes les autres couches sont gelees donc leurs poids resteront\n",
        "# inchangés\n",
        "print(\"[INFO] training head...\")\n",
        "H2 = model_ResNet34_fine_tuned_without_two_first_bloc.fit_generator(train_iterator, steps_per_epoch=totalTrain // BATCH_SIZE,\n",
        "                        validation_data=test_iterator,\n",
        "                        validation_steps=totalTest // BATCH_SIZE,\n",
        "                        epochs=100)"
      ],
      "execution_count": 0,
      "outputs": []
    },
    {
      "cell_type": "code",
      "metadata": {
        "id": "jgh7L9vYRn4h",
        "colab_type": "code",
        "outputId": "fd7c3878-8711-445e-97a9-bd1f6d20d83b",
        "colab": {
          "base_uri": "https://localhost:8080/",
          "height": 718
        }
      },
      "source": [
        "# Evaluer le modele juste apres avoir entrainer \n",
        "print(\"[INFO] evaluating after training network head...\")\n",
        "test_iterator.reset()\n",
        "predIdxs = model_ResNet34_fine_tuned_without_two_first_bloc.predict_generator(test_iterator, steps=(totalTest // BATCH_SIZE) + 1)\n",
        "predIdxs = np.argmax(predIdxs, axis=1)\n",
        "# afficher les performances de classification\n",
        "print(classification_report(test_iterator.classes, predIdxs, target_names=test_iterator.class_indices.keys()))\n",
        "plot_training(H2, 100, TRAINING_HISTORY_PLOT_PATH_WITHOUT_TWO_FIRST_BLOC)\n",
        "\n",
        "train_iterator.reset()\n",
        "test_iterator.reset()"
      ],
      "execution_count": 0,
      "outputs": [
        {
          "output_type": "stream",
          "text": [
            "[INFO] evaluating after training network head...\n",
            "                precision    recall  f1-score   support\n",
            "\n",
            "         alder       0.00      0.00      0.00        17\n",
            "         beech       0.00      0.00      0.00        15\n",
            "         birch       0.00      0.00      0.00        18\n",
            "      chestnut       0.00      0.00      0.00        16\n",
            " ginkgo-biloba       0.00      0.00      0.00        15\n",
            "      hornbeam       0.00      0.00      0.00        15\n",
            "horse-chestnut       0.00      0.00      0.00        16\n",
            "        linden       0.00      0.00      0.00        15\n",
            "           oak       0.00      0.00      0.00        15\n",
            "oriental-plane       0.00      0.00      0.00        16\n",
            "          pine       0.00      0.00      0.00        15\n",
            "        spruce       0.11      1.00      0.20        22\n",
            "\n",
            "      accuracy                           0.11       195\n",
            "     macro avg       0.01      0.08      0.02       195\n",
            "  weighted avg       0.01      0.11      0.02       195\n",
            "\n"
          ],
          "name": "stdout"
        },
        {
          "output_type": "stream",
          "text": [
            "/usr/local/lib/python3.6/dist-packages/sklearn/metrics/_classification.py:1272: UndefinedMetricWarning: Precision and F-score are ill-defined and being set to 0.0 in labels with no predicted samples. Use `zero_division` parameter to control this behavior.\n",
            "  _warn_prf(average, modifier, msg_start, len(result))\n"
          ],
          "name": "stderr"
        },
        {
          "output_type": "display_data",
          "data": {
            "image/png": "[encoded data removed]",
            "text/plain": [
              "<Figure size 432x288 with 1 Axes>"
            ]
          },
          "metadata": {
            "tags": []
          }
        },
        {
          "output_type": "display_data",
          "data": {
            "text/plain": [
              "<Figure size 432x288 with 0 Axes>"
            ]
          },
          "metadata": {
            "tags": []
          }
        }
      ]
    },
    {
      "cell_type": "code",
      "metadata": {
        "id": "2xlZ4Mn1S-pv",
        "colab_type": "code",
        "colab": {}
      },
      "source": [
        "model_ResNet34_fine_tuned_without_two_first_bloc.save(MODEL_PATH_WITHOUT_TWO_FIRST_BLOC)"
      ],
      "execution_count": 0,
      "outputs": []
    },
    {
      "cell_type": "markdown",
      "metadata": {
        "id": "j5zpRi0KUzPP",
        "colab_type": "text"
      },
      "source": [
        "**GridSearch Evaluation finetuned Model without the TWO first blo and all the rest of layers are trainable!**"
      ]
    },
    {
      "cell_type": "code",
      "metadata": {
        "id": "FayldlZMU9rb",
        "colab_type": "code",
        "colab": {}
      },
      "source": [
        "# Fonction pour creer le modele Keras\n",
        "def define_model_ResNet34_fine_tuned_without_two_first_bloc():\n",
        "  classes = 12\n",
        "  model_ResNet34_fine_tuned_without_two_first_bloc = model_ResNet34_fine_tuned_without_two_first_bloc\n",
        "  # Geler les deux premiers bloc\n",
        "  for layer in model_ResNet34_fine_tuned_without_two_first_bloc.layers[73:]:\n",
        "    layer.trainable = True\n",
        "  print(\"[INFO] compiling model...\")\n",
        "  opt = SGD(lr=1e-4, momentum=0.9)\n",
        "  model_ResNet34_fine_tuned_without_two_first_bloc.compile(loss='categorical_crossentropy', optimizer=opt, metrics=[\"accuracy\"])\n",
        "  return model_ResNet34_fine_tuned_without_two_first_bloc \n",
        "\n",
        "model_ResNet34_fine_tuned_without_two_first_bloc = KerasClassifier(build_fn=define_model_ResNet34_fine_tuned_without_two_first_bloc, verbose=1) \n",
        "# parametres de la grille de recherche\n",
        "grid_param = {'batch_size' : [8, 16],\n",
        "              'epochs' : [75, 100, 150]}\n",
        "grid_search = GridSearchCV(estimator=model, param_grid=grid_param, cv=3)\n",
        "grid_result = grid_search.fit(x_train, y_train)\n",
        "# afficher les resultats\n",
        "print(\"Best: %f using %s\" % (grid_result.best_score_, grid_result.best_params_))\n",
        "# afficher les resultats detailles\n",
        "means = grid_result.cv_results_['mean_test_score']\n",
        "stds = grid_result.cv_results_['std_test_score']\n",
        "params = grid_result.cv_results_['params']\n",
        "for mean, stdev, param in zip(means, stds, params):\n",
        "  print(\"mean (+/- std) = %f (%f) with: %r\" % (mean, stdev, param))"
      ],
      "execution_count": 0,
      "outputs": []
    },
    {
      "cell_type": "markdown",
      "metadata": {
        "id": "6oUv_ngl725s",
        "colab_type": "text"
      },
      "source": [
        "\n",
        "\n",
        "**Utiliser le modèle appris comme un extracteur de caractéristiques**"
      ]
    },
    {
      "cell_type": "code",
      "metadata": {
        "id": "vK5wF_vb1zBh",
        "colab_type": "code",
        "outputId": "56fb6274-0974-4848-8b58-66c8198dc46e",
        "colab": {
          "base_uri": "https://localhost:8080/",
          "height": 34
        }
      },
      "source": [
        "print(\"[INFO] loading model...\")\n",
        "model_ResNet34_fine_tuned = load_model('/content/drive/My Drive/Resnet34 Models/Resnet34 Models Model FINE TUNING.model')"
      ],
      "execution_count": 0,
      "outputs": [
        {
          "output_type": "stream",
          "text": [
            "[INFO] loading model...\n"
          ],
          "name": "stdout"
        }
      ]
    },
    {
      "cell_type": "code",
      "metadata": {
        "id": "WQSL6KR8o95d",
        "colab_type": "code",
        "outputId": "8012ce2e-85a6-47af-9144-7b218930712b",
        "colab": {
          "base_uri": "https://localhost:8080/",
          "height": 503
        }
      },
      "source": [
        "# initialiser un objet LabelEncoder\n",
        "le = None\n",
        "# parcourir les repo train et test\n",
        "for split in (TRAIN, TEST):\n",
        "    # charger les images\n",
        "    print(\"[INFO] processing '{} split'...\".format(split))\n",
        "    p = os.path.sep.join([BASE_PATH, split])\n",
        "    imagePaths = list(paths.list_images(p))\n",
        "\n",
        "    # extraire les labels des classes à partir du chemin\n",
        "    random.shuffle(imagePaths)\n",
        "    labels = [p.split(os.path.sep)[-2] for p in imagePaths]\n",
        "\n",
        "    # creer un objet LabelEncoder\n",
        "    # qui va encoder les label avec des valeur entre 0 and nbr_class-1.\n",
        "    if le is None:\n",
        "        le = LabelEncoder()\n",
        "        le.fit(labels)\n",
        "\n",
        "    # ouvrir le fichier csv en mode ecriture\n",
        "    csvPath = os.path.sep.join([BASE_CSV_PATH, \"{}.csv\".format(split)])\n",
        "    csv = open(csvPath, \"w\")\n",
        "    # parcourir les images en batch\n",
        "    for (b, i) in enumerate(range(0, len(imagePaths), BATCH_SIZE)):\n",
        "        print(\"[INFO] processing batch {}/{}\".format(b + 1, int(np.ceil(len(imagePaths) / float(BATCH_SIZE)))))\n",
        "        # former des batch avec le chemin des images et leurs labels\n",
        "        batchPaths = imagePaths[i:i + BATCH_SIZE]\n",
        "        batchLabels = le.transform(labels[i:i + BATCH_SIZE])\n",
        "        # initialiser la liste des images qu'on va passer dans le CNN pour l'extraction de caracteristiques\n",
        "        batchImages = []\n",
        "        # loop over the images and labels in the current batch\n",
        "        for imagePath in batchPaths:\n",
        "            # charger l'image en taille 224x224 pixels\n",
        "            image = load_img(imagePath, target_size=(224, 224))\n",
        "            image = img_to_array(image)\n",
        "            # image => tensor\n",
        "            image = np.expand_dims(image, axis=0)\n",
        "            # normalisation\n",
        "            #image = imagenet_utils.preprocess_input(image)\n",
        "            # ajouter l'image au batch\n",
        "            batchImages.append(image)\n",
        "        # passer l'image le long du CNN, extraire les caractéristiques et les representer comme vecteur\n",
        "        batchImages = np.vstack(batchImages)\n",
        "        model_extract = Model(model_ResNet34_fine_tuned.inputs, model_ResNet34_fine_tuned.layers[-4].output)\n",
        "        features = model_extract.predict(batchImages, batch_size=BATCH_SIZE)\n",
        "        features = features.reshape((features.shape[0], 7 * 7 * 512))\n",
        "        # sauvegarder \"label, vecteur de caractéristiques\" dans le fichiers CSV\n",
        "        for (label, vec) in zip(batchLabels, features):\n",
        "            vec = \",\".join([str(v) for v in vec])\n",
        "            csv.write(\"{},{}\\n\".format(label, vec))\n",
        "\n",
        "    # fermer le fichier CSV\n",
        "    csv.close()\n"
      ],
      "execution_count": 0,
      "outputs": [
        {
          "output_type": "stream",
          "text": [
            "[INFO] processing 'Trunk12_resized_train split'...\n",
            "[INFO] processing batch 1/13\n",
            "[INFO] processing batch 2/13\n",
            "[INFO] processing batch 3/13\n",
            "[INFO] processing batch 4/13\n",
            "[INFO] processing batch 5/13\n",
            "[INFO] processing batch 6/13\n",
            "[INFO] processing batch 7/13\n",
            "[INFO] processing batch 8/13\n",
            "[INFO] processing batch 9/13\n",
            "[INFO] processing batch 10/13\n",
            "[INFO] processing batch 11/13\n",
            "[INFO] processing batch 12/13\n",
            "[INFO] processing batch 13/13\n",
            "[INFO] processing 'Trunk12_resized_test split'...\n",
            "[INFO] processing batch 1/13\n",
            "[INFO] processing batch 2/13\n",
            "[INFO] processing batch 3/13\n",
            "[INFO] processing batch 4/13\n",
            "[INFO] processing batch 5/13\n",
            "[INFO] processing batch 6/13\n",
            "[INFO] processing batch 7/13\n",
            "[INFO] processing batch 8/13\n",
            "[INFO] processing batch 9/13\n",
            "[INFO] processing batch 10/13\n",
            "[INFO] processing batch 11/13\n",
            "[INFO] processing batch 12/13\n",
            "[INFO] processing batch 13/13\n"
          ],
          "name": "stdout"
        }
      ]
    }
  ]
}